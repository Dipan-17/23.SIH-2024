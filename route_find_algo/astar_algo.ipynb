{
 "cells": [
  {
   "cell_type": "code",
   "execution_count": 60,
   "metadata": {},
   "outputs": [],
   "source": [
    "import csv\n",
    "import heapq"
   ]
  },
  {
   "cell_type": "code",
   "execution_count": 61,
   "metadata": {},
   "outputs": [],
   "source": [
    "class Node:\n",
    "    def __init__(self, name, g_cost, h_cost, parent=None):\n",
    "        self.name = name\n",
    "        self.g_cost = g_cost  # Cost from start to current node\n",
    "        self.h_cost = h_cost  # Heuristic cost from current node to goal\n",
    "        self.f_cost = g_cost + h_cost  # Total cost\n",
    "        self.parent = parent\n",
    "\n",
    "    def __lt__(self, other):\n",
    "        return self.f_cost < other.f_cost"
   ]
  },
  {
   "cell_type": "code",
   "execution_count": 62,
   "metadata": {},
   "outputs": [],
   "source": [
    "def load_nodes(filename):\n",
    "    nodes = {}\n",
    "    with open(filename, 'r') as csvfile:\n",
    "        reader = csv.DictReader(csvfile)\n",
    "        for row in reader:\n",
    "            nodes[row['node_name']] = {\n",
    "                'type': row['type'],\n",
    "                'x': float(row['x']),\n",
    "                'y': float(row['y'])\n",
    "            }\n",
    "    return nodes"
   ]
  },
  {
   "cell_type": "code",
   "execution_count": 63,
   "metadata": {},
   "outputs": [],
   "source": [
    "def load_edges(filename):\n",
    "    edges = {}\n",
    "    with open(filename, 'r') as csvfile:\n",
    "        reader = csv.DictReader(csvfile)\n",
    "        for row in reader:\n",
    "            if row['from_node'] not in edges:\n",
    "                edges[row['from_node']] = []\n",
    "            edges[row['from_node']].append((row['to_node'], int(row['cost']), row['mode'], int(row['time'])))\n",
    "    return edges"
   ]
  },
  {
   "cell_type": "code",
   "execution_count": 64,
   "metadata": {},
   "outputs": [],
   "source": [
    "def load_transfers(filename):\n",
    "    transfers = {}\n",
    "    with open(filename, 'r') as csvfile:\n",
    "        reader = csv.DictReader(csvfile)\n",
    "        for row in reader:\n",
    "            if row['node_name'] not in transfers:\n",
    "                transfers[row['node_name']] = []\n",
    "            transfers[row['node_name']].append({\n",
    "                'from_mode': row['from_mode'],\n",
    "                'to_mode': row['to_mode'],\n",
    "                'cost': int(row['transfer_cost']),\n",
    "                'time': float(row['transfer_time'])\n",
    "            })\n",
    "    return transfers"
   ]
  },
  {
   "cell_type": "code",
   "execution_count": 65,
   "metadata": {},
   "outputs": [],
   "source": [
    "def load_dynamic_factors(filename):\n",
    "    factors = {}\n",
    "    with open(filename, 'r') as csvfile:\n",
    "        reader = csv.DictReader(csvfile)\n",
    "        for row in reader:\n",
    "            factors[(row['from_node'], row['to_node'])] = {\n",
    "                'accident_risk': float(row['accident_risk']),\n",
    "                'congestion_factor': float(row['congestion_factor']),\n",
    "                'weather_delay': float(row['weather_delay']),\n",
    "            }\n",
    "    return factors"
   ]
  },
  {
   "cell_type": "code",
   "execution_count": 66,
   "metadata": {},
   "outputs": [],
   "source": [
    "def adjust_costs_dynamic(node, to_node, base_cost, current_conditions):\n",
    "    \"\"\"\n",
    "    Adjust the cost dynamically based on conditions like accidents, weather, etc.\n",
    "    \"\"\"\n",
    "    factor = current_conditions.get((node, to_node), {})\n",
    "    accident_risk = factor.get('accident_risk', 1)\n",
    "    congestion_factor = factor.get('congestion_factor', 1)\n",
    "    weather_delay = factor.get('weather_delay', 1)\n",
    "\n",
    "    w1=0.4 #accident risk\n",
    "    w2=0.5 #congestion factor\n",
    "    w3=0.6 #weather delay\n",
    "    \n",
    "    adjusted_cost = base_cost * (1 + w1 * accident_risk + w2 * congestion_factor + w3 * weather_delay)\n",
    "\n",
    "    return adjusted_cost"
   ]
  },
  {
   "cell_type": "code",
   "execution_count": 67,
   "metadata": {},
   "outputs": [],
   "source": [
    "def manhattan_distance(node, goal_node):\n",
    "    # Simplified Manhattan distance as heuristic\n",
    "    return abs(node['x'] - goal_node['x']) + abs(node['y'] - goal_node['y'])\n"
   ]
  },
  {
   "cell_type": "markdown",
   "metadata": {},
   "source": [
    "This code works but dont use the dynamic factor to calculate cost"
   ]
  },
  {
   "cell_type": "code",
   "execution_count": 68,
   "metadata": {},
   "outputs": [],
   "source": [
    "def a_star_search_dynamic(start, goal, nodes, edges, transfers, time_window, dynamic_factors):\n",
    "    # Initialize open and closed lists\n",
    "    open_list = []\n",
    "    closed_list = set()\n",
    "    \n",
    "    # Add the start node to the open list\n",
    "    open_list.append((0, start))\n",
    "    \n",
    "    # Dictionary to store the cost of reaching each node\n",
    "    g_costs = {start: 0}\n",
    "    \n",
    "    # Dictionary to store the path\n",
    "    came_from = {}\n",
    "    \n",
    "    while open_list:\n",
    "        # Get the node with the lowest cost\n",
    "        current_cost, current_node = min(open_list, key=lambda x: x[0])\n",
    "        open_list.remove((current_cost, current_node))\n",
    "        \n",
    "        # If the goal is reached, reconstruct the path\n",
    "        if current_node == goal:\n",
    "            path = []\n",
    "            while current_node in came_from:\n",
    "                path.append(current_node)\n",
    "                current_node = came_from[current_node]\n",
    "            path.append(start)\n",
    "            return path[::-1]\n",
    "        \n",
    "        closed_list.add(current_node)\n",
    "        \n",
    "        # Check if the current node has neighbors in the edges dictionary\n",
    "        if current_node not in edges:\n",
    "            continue  # Skip if no neighbors\n",
    "        \n",
    "        for neighbor, base_cost, mode, travel_time in edges[current_node]:\n",
    "            if neighbor in closed_list:\n",
    "                continue\n",
    "            \n",
    "            # Calculate the cost to reach the neighbor\n",
    "            tentative_g_cost = g_costs[current_node] + base_cost\n",
    "            \n",
    "            if neighbor not in g_costs or tentative_g_cost < g_costs[neighbor]:\n",
    "                g_costs[neighbor] = tentative_g_cost\n",
    "                total_cost = tentative_g_cost  # Add heuristic if needed\n",
    "                open_list.append((total_cost, neighbor))\n",
    "                came_from[neighbor] = current_node\n",
    "    \n",
    "    return None  # Return None if no path is found\n",
    "\n"
   ]
  },
  {
   "cell_type": "markdown",
   "metadata": {},
   "source": [
    "Code to take care of adjusted factors also"
   ]
  },
  {
   "cell_type": "code",
   "execution_count": 69,
   "metadata": {},
   "outputs": [],
   "source": [
    "def a_star_search_dynamic(start, goal, nodes, edges, transfers, time_window, current_conditions):\n",
    "    open_list = []\n",
    "    closed_list = set()\n",
    "    \n",
    "    start_node = Node(start, 0, manhattan_distance(nodes[start], nodes[goal]))\n",
    "    heapq.heappush(open_list, start_node)\n",
    "    \n",
    "    while open_list:\n",
    "        current_node = heapq.heappop(open_list)\n",
    "        \n",
    "        if current_node.name == goal:\n",
    "            path = []\n",
    "            while current_node:\n",
    "                path.append(current_node.name)\n",
    "                current_node = current_node.parent\n",
    "            return path[::-1]\n",
    "        \n",
    "        closed_list.add(current_node.name)\n",
    "        \n",
    "        if current_node.name not in edges:\n",
    "            continue\n",
    "        \n",
    "        for neighbor, base_cost, mode, travel_time in edges[current_node.name]:\n",
    "            if neighbor in closed_list:\n",
    "                continue\n",
    "            \n",
    "            adjusted_cost = adjust_costs_dynamic(current_node.name, neighbor, base_cost, current_conditions)\n",
    "            g_cost = current_node.g_cost + adjusted_cost\n",
    "            \n",
    "            if g_cost > time_window:\n",
    "                continue\n",
    "            \n",
    "            h_cost = manhattan_distance(nodes[neighbor], nodes[goal])\n",
    "            neighbor_node = Node(neighbor, g_cost, h_cost, current_node)\n",
    "            heapq.heappush(open_list, neighbor_node)\n",
    "    \n",
    "    return None"
   ]
  },
  {
   "cell_type": "code",
   "execution_count": 70,
   "metadata": {},
   "outputs": [],
   "source": [
    "# Load data from CSV files\n",
    "nodes = load_nodes('nodes.csv')"
   ]
  },
  {
   "cell_type": "code",
   "execution_count": 71,
   "metadata": {},
   "outputs": [],
   "source": [
    "edges = load_edges('edges.csv')"
   ]
  },
  {
   "cell_type": "code",
   "execution_count": 72,
   "metadata": {},
   "outputs": [],
   "source": [
    "transfers = load_transfers('transfer.csv')"
   ]
  },
  {
   "cell_type": "code",
   "execution_count": 73,
   "metadata": {},
   "outputs": [],
   "source": [
    "dynamic_factors = load_dynamic_factors('dynamic_factors.csv')"
   ]
  },
  {
   "cell_type": "code",
   "execution_count": 74,
   "metadata": {},
   "outputs": [
    {
     "name": "stdout",
     "output_type": "stream",
     "text": [
      "Requirement already satisfied: ipywidgets in c:\\python311\\lib\\site-packages (8.1.5)\n",
      "Requirement already satisfied: comm>=0.1.3 in c:\\users\\dipan\\appdata\\roaming\\python\\python311\\site-packages (from ipywidgets) (0.1.3)\n",
      "Requirement already satisfied: ipython>=6.1.0 in c:\\users\\dipan\\appdata\\roaming\\python\\python311\\site-packages (from ipywidgets) (8.12.0)\n",
      "Requirement already satisfied: traitlets>=4.3.1 in c:\\users\\dipan\\appdata\\roaming\\python\\python311\\site-packages (from ipywidgets) (5.9.0)\n",
      "Requirement already satisfied: widgetsnbextension~=4.0.12 in c:\\python311\\lib\\site-packages (from ipywidgets) (4.0.13)\n",
      "Requirement already satisfied: jupyterlab-widgets~=3.0.12 in c:\\python311\\lib\\site-packages (from ipywidgets) (3.0.13)\n",
      "Requirement already satisfied: backcall in c:\\users\\dipan\\appdata\\roaming\\python\\python311\\site-packages (from ipython>=6.1.0->ipywidgets) (0.2.0)\n",
      "Requirement already satisfied: decorator in c:\\python311\\lib\\site-packages (from ipython>=6.1.0->ipywidgets) (4.4.2)\n",
      "Requirement already satisfied: jedi>=0.16 in c:\\users\\dipan\\appdata\\roaming\\python\\python311\\site-packages (from ipython>=6.1.0->ipywidgets) (0.18.2)\n",
      "Requirement already satisfied: matplotlib-inline in c:\\users\\dipan\\appdata\\roaming\\python\\python311\\site-packages (from ipython>=6.1.0->ipywidgets) (0.1.6)\n",
      "Requirement already satisfied: pickleshare in c:\\users\\dipan\\appdata\\roaming\\python\\python311\\site-packages (from ipython>=6.1.0->ipywidgets) (0.7.5)\n",
      "Requirement already satisfied: prompt-toolkit!=3.0.37,<3.1.0,>=3.0.30 in c:\\users\\dipan\\appdata\\roaming\\python\\python311\\site-packages (from ipython>=6.1.0->ipywidgets) (3.0.38)\n",
      "Requirement already satisfied: pygments>=2.4.0 in c:\\users\\dipan\\appdata\\roaming\\python\\python311\\site-packages (from ipython>=6.1.0->ipywidgets) (2.15.1)\n",
      "Requirement already satisfied: stack-data in c:\\users\\dipan\\appdata\\roaming\\python\\python311\\site-packages (from ipython>=6.1.0->ipywidgets) (0.6.2)\n",
      "Requirement already satisfied: colorama in c:\\users\\dipan\\appdata\\roaming\\python\\python311\\site-packages (from ipython>=6.1.0->ipywidgets) (0.4.6)\n",
      "Requirement already satisfied: parso<0.9.0,>=0.8.0 in c:\\users\\dipan\\appdata\\roaming\\python\\python311\\site-packages (from jedi>=0.16->ipython>=6.1.0->ipywidgets) (0.8.3)\n",
      "Requirement already satisfied: wcwidth in c:\\users\\dipan\\appdata\\roaming\\python\\python311\\site-packages (from prompt-toolkit!=3.0.37,<3.1.0,>=3.0.30->ipython>=6.1.0->ipywidgets) (0.2.6)\n",
      "Requirement already satisfied: executing>=1.2.0 in c:\\users\\dipan\\appdata\\roaming\\python\\python311\\site-packages (from stack-data->ipython>=6.1.0->ipywidgets) (1.2.0)\n",
      "Requirement already satisfied: asttokens>=2.1.0 in c:\\users\\dipan\\appdata\\roaming\\python\\python311\\site-packages (from stack-data->ipython>=6.1.0->ipywidgets) (2.2.1)\n",
      "Requirement already satisfied: pure-eval in c:\\users\\dipan\\appdata\\roaming\\python\\python311\\site-packages (from stack-data->ipython>=6.1.0->ipywidgets) (0.2.2)\n",
      "Requirement already satisfied: six in c:\\users\\dipan\\appdata\\roaming\\python\\python311\\site-packages (from asttokens>=2.1.0->stack-data->ipython>=6.1.0->ipywidgets) (1.16.0)\n",
      "Note: you may need to restart the kernel to use updated packages.\n"
     ]
    },
    {
     "name": "stderr",
     "output_type": "stream",
     "text": [
      "\n",
      "[notice] A new release of pip available: 22.3 -> 24.2\n",
      "[notice] To update, run: python.exe -m pip install --upgrade pip\n"
     ]
    }
   ],
   "source": [
    "%pip install ipywidgets "
   ]
  },
  {
   "cell_type": "code",
   "execution_count": 75,
   "metadata": {},
   "outputs": [
    {
     "data": {
      "application/vnd.jupyter.widget-view+json": {
       "model_id": "22bd19c1c4b044c5b04e1ffc66180e9d",
       "version_major": 2,
       "version_minor": 0
      },
      "text/plain": [
       "Dropdown(description='Start:', index=16, options=('Visakhapatnam', 'Lucknow', 'Nagpur', 'Indore', 'Patna', 'Ja…"
      ]
     },
     "metadata": {},
     "output_type": "display_data"
    },
    {
     "data": {
      "application/vnd.jupyter.widget-view+json": {
       "model_id": "3077a42600a747388a22e8533be5fae0",
       "version_major": 2,
       "version_minor": 0
      },
      "text/plain": [
       "Dropdown(description='Goal:', index=20, options=('Visakhapatnam', 'Lucknow', 'Nagpur', 'Indore', 'Patna', 'Jai…"
      ]
     },
     "metadata": {},
     "output_type": "display_data"
    },
    {
     "data": {
      "application/vnd.jupyter.widget-view+json": {
       "model_id": "eeb3e040c49f4ce9a876849050534c2b",
       "version_major": 2,
       "version_minor": 0
      },
      "text/plain": [
       "IntSlider(value=100, description='Time Window:', max=1000000, min=1)"
      ]
     },
     "metadata": {},
     "output_type": "display_data"
    }
   ],
   "source": [
    "from IPython.display import display\n",
    "import ipywidgets as widgets\n",
    "\n",
    "# Load unique city names from file\n",
    "with open('unique_city_names.txt', 'r') as file:\n",
    "    unique_cities = [line.strip() for line in file]\n",
    "\n",
    "# Create dropdown widgets for start and goal cities\n",
    "start_dropdown = widgets.Dropdown(\n",
    "    options=unique_cities,\n",
    "    description='Start:',\n",
    "    value='Delhi'\n",
    ")\n",
    "\n",
    "goal_dropdown = widgets.Dropdown(\n",
    "    options=unique_cities,\n",
    "    description='Goal:',\n",
    "    value='Chennai'\n",
    ")\n",
    "\n",
    "# Create an integer slider for the time window\n",
    "time_window_slider = widgets.IntSlider(\n",
    "    value=100,\n",
    "    min=1,\n",
    "    max=10000,\n",
    "    step=10,\n",
    "    description='Time Window:'\n",
    ")\n",
    "\n",
    "# Display the widgets\n",
    "display(start_dropdown, goal_dropdown, time_window_slider)\n",
    "\n",
    "# Global variables to store the selected values\n",
    "selected_start = start_dropdown.value\n",
    "selected_goal = goal_dropdown.value\n",
    "selected_time_window = time_window_slider.value\n",
    "\n",
    "# Function to update the global variables when the widget value changes\n",
    "def update_start(change):\n",
    "    global selected_start\n",
    "    selected_start = change['new']\n",
    "\n",
    "def update_goal(change):\n",
    "    global selected_goal\n",
    "    selected_goal = change['new']\n",
    "\n",
    "def update_time_window(change):\n",
    "    global selected_time_window\n",
    "    selected_time_window = change['new']\n",
    "\n",
    "# Add observers to the widgets to update global variables dynamically\n",
    "start_dropdown.observe(update_start, names='value')\n",
    "goal_dropdown.observe(update_goal, names='value')\n",
    "time_window_slider.observe(update_time_window, names='value')\n",
    "\n",
    "# Now the values of selected_start, selected_goal, and selected_time_window\n",
    "# will be globally accessible and updated dynamically when the widgets are changed.\n"
   ]
  },
  {
   "cell_type": "code",
   "execution_count": 82,
   "metadata": {},
   "outputs": [
    {
     "name": "stdout",
     "output_type": "stream",
     "text": [
      "Start City: Delhi\n",
      "Goal City: Silchar\n",
      "Time Window: 259678\n"
     ]
    }
   ],
   "source": [
    "print(f\"Start City: {selected_start}\")\n",
    "print(f\"Goal City: {selected_goal}\")\n",
    "print(f\"Time Window: {selected_time_window}\")\n"
   ]
  },
  {
   "cell_type": "code",
   "execution_count": 84,
   "metadata": {},
   "outputs": [
    {
     "name": "stdout",
     "output_type": "stream",
     "text": [
      "Optimal Path with Dynamic Factors: ['Visakhapatnam', 'Kolkata', 'Silchar']\n"
     ]
    }
   ],
   "source": [
    "# Run A* search with dynamic factors\n",
    "optimal_path = a_star_search_dynamic(selected_start, selected_goal, nodes, edges, transfers, selected_time_window, dynamic_factors)\n",
    "print(\"Optimal Path with Dynamic Factors:\", optimal_path)"
   ]
  },
  {
   "cell_type": "markdown",
   "metadata": {},
   "source": [
    "##UTILITY CODE"
   ]
  },
  {
   "cell_type": "code",
   "execution_count": 77,
   "metadata": {},
   "outputs": [],
   "source": [
    "#The following is a helper code the make all routes bidirectional\n",
    "\n",
    "\n",
    "import pandas as pd\n",
    "\n",
    "# Load the CSV data into a DataFrame\n",
    "df = pd.read_csv(\"edges.csv\")\n",
    "\n",
    "# Create a new DataFrame with reversed routes\n",
    "reversed_df = df.copy()\n",
    "reversed_df.columns = ['to_node', 'from_node', 'mode', 'cost', 'time']\n",
    "\n",
    "# Combine original and reversed dataframes\n",
    "combined_df = pd.concat([df, reversed_df], ignore_index=True)\n",
    "\n",
    "# Remove duplicate routes (if any)\n",
    "combined_df = combined_df.drop_duplicates()\n",
    "\n",
    "# Save the modified DataFrame to a new CSV file\n",
    "combined_df.to_csv(\"edges.csv\", index=False)"
   ]
  }
 ],
 "metadata": {
  "kernelspec": {
   "display_name": "Python 3",
   "language": "python",
   "name": "python3"
  },
  "language_info": {
   "codemirror_mode": {
    "name": "ipython",
    "version": 3
   },
   "file_extension": ".py",
   "mimetype": "text/x-python",
   "name": "python",
   "nbconvert_exporter": "python",
   "pygments_lexer": "ipython3",
   "version": "3.11.0"
  }
 },
 "nbformat": 4,
 "nbformat_minor": 2
}
