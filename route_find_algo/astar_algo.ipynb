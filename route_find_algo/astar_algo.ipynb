{
 "cells": [
  {
   "cell_type": "code",
   "execution_count": 117,
   "metadata": {},
   "outputs": [],
   "source": [
    "import csv\n",
    "import heapq"
   ]
  },
  {
   "cell_type": "markdown",
   "metadata": {},
   "source": [
    "## REQUIRED HELPER FUNCTIONS"
   ]
  },
  {
   "cell_type": "code",
   "execution_count": 118,
   "metadata": {},
   "outputs": [],
   "source": [
    "class Node:\n",
    "    def __init__(self, name, g_cost, h_cost, parent=None):\n",
    "        self.name = name\n",
    "        self.g_cost = g_cost  # Cost from start to current node\n",
    "        self.h_cost = h_cost  # Heuristic cost from current node to goal\n",
    "        self.f_cost = g_cost + h_cost  # Total cost\n",
    "        self.parent = parent\n",
    "\n",
    "    def __lt__(self, other):\n",
    "        return self.f_cost < other.f_cost"
   ]
  },
  {
   "cell_type": "code",
   "execution_count": 119,
   "metadata": {},
   "outputs": [],
   "source": [
    "def load_nodes(filename):\n",
    "    nodes = {}\n",
    "    with open(filename, 'r') as csvfile:\n",
    "        reader = csv.DictReader(csvfile)\n",
    "        for row in reader:\n",
    "            nodes[row['node_name']] = {\n",
    "                'type': row['type'],\n",
    "                'x': float(row['x']),\n",
    "                'y': float(row['y'])\n",
    "            }\n",
    "    return nodes"
   ]
  },
  {
   "cell_type": "code",
   "execution_count": 120,
   "metadata": {},
   "outputs": [],
   "source": [
    "def load_edges(filename):\n",
    "    edges = {}\n",
    "    with open(filename, 'r') as csvfile:\n",
    "        reader = csv.DictReader(csvfile)\n",
    "        for row in reader:\n",
    "            if row['from_node'] not in edges:\n",
    "                edges[row['from_node']] = []\n",
    "            edges[row['from_node']].append((row['to_node'], int(row['cost']), row['mode'], int(row['time'])))\n",
    "    return edges"
   ]
  },
  {
   "cell_type": "code",
   "execution_count": 121,
   "metadata": {},
   "outputs": [],
   "source": [
    "def load_transfers(filename):\n",
    "    transfers = {}\n",
    "    with open(filename, 'r') as csvfile:\n",
    "        reader = csv.DictReader(csvfile)\n",
    "        for row in reader:\n",
    "            if row['node_name'] not in transfers:\n",
    "                transfers[row['node_name']] = []\n",
    "            transfers[row['node_name']].append({\n",
    "                'from_mode': row['from_mode'],\n",
    "                'to_mode': row['to_mode'],\n",
    "                'cost': int(row['transfer_cost']),\n",
    "                'time': float(row['transfer_time'])\n",
    "            })\n",
    "    return transfers"
   ]
  },
  {
   "cell_type": "code",
   "execution_count": 122,
   "metadata": {},
   "outputs": [],
   "source": [
    "def load_dynamic_factors(filename):\n",
    "    factors = {}\n",
    "    with open(filename, 'r') as csvfile:\n",
    "        reader = csv.DictReader(csvfile)\n",
    "        for row in reader:\n",
    "            factors[(row['from_node'], row['to_node'])] = {\n",
    "                'accident_risk': float(row['accident_risk']),\n",
    "                'congestion_factor': float(row['congestion_factor']),\n",
    "                'weather_delay': float(row['weather_delay']),\n",
    "            }\n",
    "    return factors"
   ]
  },
  {
   "cell_type": "code",
   "execution_count": 123,
   "metadata": {},
   "outputs": [],
   "source": [
    "def adjust_costs_dynamic(node, to_node, base_cost, current_conditions):\n",
    "    \"\"\"\n",
    "    Adjust the cost dynamically based on conditions like accidents, weather, etc.\n",
    "    \"\"\"\n",
    "    factor = current_conditions.get((node, to_node), {})\n",
    "    accident_risk = factor.get('accident_risk', 1)\n",
    "    congestion_factor = factor.get('congestion_factor', 1)\n",
    "    weather_delay = factor.get('weather_delay', 1)\n",
    "\n",
    "    w1=0.4 #accident risk\n",
    "    w2=0.5 #congestion factor\n",
    "    w3=0.6 #weather delay\n",
    "    \n",
    "    adjusted_cost = base_cost * (1 + w1 * accident_risk + w2 * congestion_factor + w3 * weather_delay)\n",
    "\n",
    "    return adjusted_cost"
   ]
  },
  {
   "cell_type": "code",
   "execution_count": 124,
   "metadata": {},
   "outputs": [],
   "source": [
    "def manhattan_distance(node, goal_node):\n",
    "    # Simplified Manhattan distance as heuristic\n",
    "    return abs(node['x'] - goal_node['x']) + abs(node['y'] - goal_node['y'])\n"
   ]
  },
  {
   "cell_type": "code",
   "execution_count": 125,
   "metadata": {},
   "outputs": [],
   "source": []
  },
  {
   "cell_type": "markdown",
   "metadata": {},
   "source": [
    "## PLOTTING THE GRAPH"
   ]
  },
  {
   "cell_type": "code",
   "execution_count": null,
   "metadata": {},
   "outputs": [],
   "source": [
    "!pip install networkx"
   ]
  },
  {
   "cell_type": "code",
   "execution_count": null,
   "metadata": {},
   "outputs": [],
   "source": [
    "!pip install --user matplotlib"
   ]
  },
  {
   "cell_type": "code",
   "execution_count": 129,
   "metadata": {},
   "outputs": [],
   "source": [
    "import pandas as pd\n",
    "import numpy as np\n",
    "import networkx as nx\n",
    "import matplotlib.pyplot as plt"
   ]
  },
  {
   "cell_type": "code",
   "execution_count": null,
   "metadata": {},
   "outputs": [],
   "source": [
    "# Function to convert latitude and longitude to Mercator projection\n",
    "def mercator_projection(lat, lon):\n",
    "    R = 6378137  # Radius of the Earth in meters\n",
    "    x = R * np.radians(lon)\n",
    "    y = R * np.log(np.tan(np.pi / 4 + np.radians(lat) / 2))\n",
    "    return x, y\n",
    "\n",
    "\n",
    "\n",
    "# Read the nodes data (replace with your CSV path)\n",
    "nodes = pd.read_csv('nodes.csv')\n",
    "\n",
    "# Apply Mercator projection to convert lat/lon to x/y coordinates\n",
    "nodes['scaled_x'], nodes['scaled_y'] = zip(*nodes.apply(lambda row: mercator_projection(row['x'], row['y']), axis=1))\n",
    "\n",
    "\n",
    "# Save to a new CSV file, retaining the original data and adding projected coordinates\n",
    "nodes.to_csv('mercator_nodes.csv', index=False)\n",
    "\n",
    "# Read the edges data (replace with your CSV path)\n",
    "edges = pd.read_csv('edges.csv')\n",
    "\n",
    "# Create a graph using networkx\n",
    "G = nx.Graph()\n",
    "\n",
    "# Add nodes with positions (Mercator projected coordinates)\n",
    "for index, row in nodes.iterrows():\n",
    "    G.add_node(row['node_name'], pos=(row['scaled_x'], row['scaled_y']))\n",
    "\n",
    "# Add edges with time and cost (from the original CSV)\n",
    "for index, row in edges.iterrows():\n",
    "    G.add_edge(row['from_node'], row['to_node'], weight=row['cost'], time=row['time'])\n",
    "\n",
    "# Get positions for drawing the graph\n",
    "pos = nx.get_node_attributes(G, 'pos')\n",
    "\n",
    "# Draw the graph\n",
    "plt.figure(figsize=(15, 15))\n",
    "nx.draw(G, pos, with_labels=True, node_size=500, node_color='skyblue', font_size=10, font_weight='bold')\n",
    "\n",
    "# Draw edge labels with costs\n",
    "nx.draw_networkx_edge_labels(G, pos, edge_labels={(row['from_node'], row['to_node']): row['cost'] for _, row in edges.iterrows()})\n",
    "\n",
    "plt.title(\"Graph of Nodes with Mercator Projection Coordinates\")\n",
    "plt.show()\n"
   ]
  },
  {
   "cell_type": "markdown",
   "metadata": {},
   "source": [
    "## TAKING THE INPUT"
   ]
  },
  {
   "cell_type": "code",
   "execution_count": null,
   "metadata": {},
   "outputs": [],
   "source": [
    "%pip install ipywidgets "
   ]
  },
  {
   "cell_type": "code",
   "execution_count": 131,
   "metadata": {},
   "outputs": [
    {
     "data": {
      "application/vnd.jupyter.widget-view+json": {
       "model_id": "90aa257c89044bfdbdf0508a9383ce9f",
       "version_major": 2,
       "version_minor": 0
      },
      "text/plain": [
       "Dropdown(description='Start:', index=16, options=('Visakhapatnam', 'Lucknow', 'Nagpur', 'Indore', 'Patna', 'Ja…"
      ]
     },
     "metadata": {},
     "output_type": "display_data"
    },
    {
     "data": {
      "application/vnd.jupyter.widget-view+json": {
       "model_id": "8a8358b4c20f47f39538168028846650",
       "version_major": 2,
       "version_minor": 0
      },
      "text/plain": [
       "Dropdown(description='Goal:', index=20, options=('Visakhapatnam', 'Lucknow', 'Nagpur', 'Indore', 'Patna', 'Jai…"
      ]
     },
     "metadata": {},
     "output_type": "display_data"
    },
    {
     "data": {
      "application/vnd.jupyter.widget-view+json": {
       "model_id": "cc27ff9771cf4a5a85eb3d742b7437c9",
       "version_major": 2,
       "version_minor": 0
      },
      "text/plain": [
       "IntSlider(value=100, description='Time Window:', max=1000, min=1, step=10)"
      ]
     },
     "metadata": {},
     "output_type": "display_data"
    }
   ],
   "source": [
    "from IPython.display import display\n",
    "import ipywidgets as widgets\n",
    "\n",
    "# Load unique city names from file\n",
    "with open('unique_city_names.txt', 'r') as file:\n",
    "    unique_cities = [line.strip() for line in file]\n",
    "\n",
    "# Create dropdown widgets for start and goal cities\n",
    "start_dropdown = widgets.Dropdown(\n",
    "    options=unique_cities,\n",
    "    description='Start:',\n",
    "    value='Delhi'\n",
    ")\n",
    "\n",
    "goal_dropdown = widgets.Dropdown(\n",
    "    options=unique_cities,\n",
    "    description='Goal:',\n",
    "    value='Chennai'\n",
    ")\n",
    "\n",
    "# Create an integer slider for the time window\n",
    "time_window_slider = widgets.IntSlider(\n",
    "    value=100,\n",
    "    min=1,\n",
    "    max=1000,\n",
    "    step=10,\n",
    "    description='Time Window:'\n",
    ")\n",
    "\n",
    "# Display the widgets\n",
    "display(start_dropdown, goal_dropdown, time_window_slider)\n",
    "\n",
    "# Global variables to store the selected values\n",
    "selected_start = start_dropdown.value\n",
    "selected_goal = goal_dropdown.value\n",
    "selected_time_window = time_window_slider.value\n",
    "\n",
    "# Function to update the global variables when the widget value changes\n",
    "def update_start(change):\n",
    "    global selected_start\n",
    "    selected_start = change['new']\n",
    "\n",
    "def update_goal(change):\n",
    "    global selected_goal\n",
    "    selected_goal = change['new']\n",
    "\n",
    "def update_time_window(change):\n",
    "    global selected_time_window\n",
    "    selected_time_window = change['new']\n",
    "\n",
    "# Add observers to the widgets to update global variables dynamically\n",
    "start_dropdown.observe(update_start, names='value')\n",
    "goal_dropdown.observe(update_goal, names='value')\n",
    "time_window_slider.observe(update_time_window, names='value')\n",
    "\n",
    "# Now the values of selected_start, selected_goal, and selected_time_window\n",
    "# will be globally accessible and updated dynamically when the widgets are changed.\n"
   ]
  },
  {
   "cell_type": "code",
   "execution_count": 148,
   "metadata": {},
   "outputs": [
    {
     "name": "stdout",
     "output_type": "stream",
     "text": [
      "Start City: Shillong\n",
      "Goal City: Visakhapatnam\n",
      "Time Window: 321\n"
     ]
    }
   ],
   "source": [
    "print(f\"Start City: {selected_start}\")\n",
    "print(f\"Goal City: {selected_goal}\")\n",
    "print(f\"Time Window: {selected_time_window}\")\n"
   ]
  },
  {
   "cell_type": "markdown",
   "metadata": {},
   "source": [
    "## A* ALGORITHM"
   ]
  },
  {
   "cell_type": "code",
   "execution_count": 146,
   "metadata": {},
   "outputs": [],
   "source": [
    "def a_star_search_dynamic(start, goal, nodes, edges, transfers, time_window, current_conditions):\n",
    "    open_list = []\n",
    "    closed_list = set()\n",
    "    \n",
    "    start_node = Node(start, 0, manhattan_distance(nodes[start], nodes[goal]))\n",
    "    heapq.heappush(open_list, start_node)\n",
    "    \n",
    "    while open_list:\n",
    "        current_node = heapq.heappop(open_list)\n",
    "        \n",
    "        if current_node.name == goal:\n",
    "            path = []\n",
    "            while current_node:\n",
    "                path.append(current_node.name)\n",
    "                current_node = current_node.parent\n",
    "            return path[::-1]\n",
    "        \n",
    "        closed_list.add(current_node.name)\n",
    "        \n",
    "        if current_node.name not in edges:\n",
    "            continue\n",
    "        \n",
    "        for neighbor, base_cost, mode, travel_time in edges[current_node.name]:\n",
    "            if neighbor in closed_list:\n",
    "                continue\n",
    "            \n",
    "            adjusted_cost = adjust_costs_dynamic(current_node.name, neighbor, base_cost, current_conditions)\n",
    "            g_cost = current_node.g_cost + adjusted_cost\n",
    "            \n",
    "            if g_cost > time_window:\n",
    "                continue\n",
    "            \n",
    "            h_cost = manhattan_distance(nodes[neighbor], nodes[goal])\n",
    "            neighbor_node = Node(neighbor, g_cost, h_cost, current_node)\n",
    "            heapq.heappush(open_list, neighbor_node)\n",
    "    \n",
    "    return None"
   ]
  },
  {
   "cell_type": "code",
   "execution_count": 154,
   "metadata": {},
   "outputs": [],
   "source": [
    "def a_star_search_dynamic_print_path(start, goal, nodes, edges, transfers, time_window, current_conditions):\n",
    "    open_list = []\n",
    "    closed_list = set()\n",
    "    \n",
    "    try:\n",
    "        start_node = Node(start, 0, manhattan_distance(nodes[start], nodes[goal]))\n",
    "    except KeyError as e:\n",
    "        print(f\"Error: {e} not found in nodes dictionary\")\n",
    "        return None\n",
    "    \n",
    "    heapq.heappush(open_list, start_node)\n",
    "    \n",
    "    while open_list:\n",
    "        current_node = heapq.heappop(open_list)\n",
    "        \n",
    "        if current_node.name == goal:\n",
    "            path = []\n",
    "            total_cost = current_node.g_cost\n",
    "            while current_node:\n",
    "                path.append(current_node.name)\n",
    "                current_node = current_node.parent\n",
    "            print(f\"Path taken: {path[::-1]}\")\n",
    "            print(f\"Total path cost: {total_cost}\")\n",
    "            return path[::-1]\n",
    "        \n",
    "        closed_list.add(current_node.name)\n",
    "        \n",
    "        if current_node.name not in edges:\n",
    "            continue\n",
    "        \n",
    "        for neighbor, base_cost, mode, travel_time in edges[current_node.name]:\n",
    "            if neighbor in closed_list:\n",
    "                continue\n",
    "            \n",
    "            adjusted_cost = adjust_costs_dynamic(current_node.name, neighbor, base_cost, current_conditions)\n",
    "            g_cost = current_node.g_cost + adjusted_cost\n",
    "            \n",
    "            if g_cost > time_window:\n",
    "                continue\n",
    "            \n",
    "            h_cost = manhattan_distance(nodes[neighbor], nodes[goal])\n",
    "            neighbor_node = Node(neighbor, g_cost, h_cost, current_node)\n",
    "            heapq.heappush(open_list, neighbor_node)\n",
    "            \n",
    "            print(f\"Considering path from {current_node.name} to {neighbor} with cost {adjusted_cost} (mode: {mode})\")\n",
    "    \n",
    "    print(\"No path found\")\n",
    "    return None"
   ]
  },
  {
   "cell_type": "markdown",
   "metadata": {},
   "source": [
    "## RUN THE CODE"
   ]
  },
  {
   "cell_type": "code",
   "execution_count": 141,
   "metadata": {},
   "outputs": [],
   "source": [
    "# Load data from CSV files\n",
    "nodes = load_nodes('nodes.csv')\n",
    "edges = load_edges('edges.csv')\n",
    "dynamic_factors = load_dynamic_factors('dynamic_factors.csv')\n",
    "transfers = load_transfers('transfer.csv')"
   ]
  },
  {
   "cell_type": "code",
   "execution_count": 153,
   "metadata": {},
   "outputs": [
    {
     "name": "stdout",
     "output_type": "stream",
     "text": [
      "Considering path from Shillong to Agartala with cost 88.20000000000002 (mode: highway)\n",
      "Considering path from Shillong to Guwahati with cost 31.560000000000002 (mode: railway)\n",
      "Considering path from Shillong to Guwahati with cost 26.300000000000004 (mode: highway)\n",
      "Considering path from Guwahati to Silchar with cost 76.0 (mode: highway)\n",
      "Considering path from Guwahati to Agartala with cost 127.6 (mode: highway)\n",
      "Considering path from Guwahati to Imphal with cost 112.35 (mode: highway)\n",
      "Considering path from Guwahati to Delhi with cost 150.0 (mode: railway)\n",
      "Considering path from Guwahati to Kolkata with cost 87.5 (mode: highway)\n",
      "Considering path from Guwahati to Hyderabad with cost 175.0 (mode: railway)\n",
      "Considering path from Guwahati to Mumbai with cost 125.0 (mode: waterway)\n",
      "Considering path from Guwahati to Imphal with cost 112.35 (mode: railway)\n",
      "Considering path from Guwahati to Silchar with cost 76.0 (mode: highway)\n",
      "Considering path from Guwahati to Agartala with cost 127.6 (mode: highway)\n",
      "Considering path from Guwahati to Imphal with cost 112.35 (mode: highway)\n",
      "Considering path from Guwahati to Delhi with cost 150.0 (mode: railway)\n",
      "Considering path from Guwahati to Kolkata with cost 87.5 (mode: highway)\n",
      "Considering path from Guwahati to Hyderabad with cost 175.0 (mode: railway)\n",
      "Considering path from Guwahati to Mumbai with cost 125.0 (mode: waterway)\n",
      "Considering path from Guwahati to Imphal with cost 112.35 (mode: railway)\n",
      "Considering path from Agartala to Silchar with cost 60.8 (mode: highway)\n",
      "Considering path from Silchar to Imphal with cost 42.45 (mode: highway)\n",
      "Considering path from Silchar to Kolkata with cost 100.0 (mode: railway)\n",
      "Considering path from Kolkata to Ranchi with cost 55.8 (mode: railway)\n",
      "Considering path from Kolkata to Bhubaneswar with cost 66.75000000000001 (mode: highway)\n",
      "Considering path from Kolkata to Patna with cost 81.9 (mode: railway)\n",
      "Considering path from Kolkata to Delhi with cost 100.0 (mode: railway)\n",
      "Considering path from Kolkata to Mumbai with cost 50.0 (mode: waterway)\n",
      "Considering path from Kolkata to Visakhapatnam with cost 75.0 (mode: waterway)\n",
      "Considering path from Kolkata to Chennai with cost 150.0 (mode: railway)\n",
      "Considering path from Silchar to Imphal with cost 42.45 (mode: highway)\n",
      "Considering path from Kolkata to Ranchi with cost 55.8 (mode: railway)\n",
      "Considering path from Kolkata to Bhubaneswar with cost 66.75000000000001 (mode: highway)\n",
      "Considering path from Kolkata to Patna with cost 81.9 (mode: railway)\n",
      "Considering path from Kolkata to Delhi with cost 100.0 (mode: railway)\n",
      "Considering path from Kolkata to Mumbai with cost 50.0 (mode: waterway)\n",
      "Considering path from Kolkata to Visakhapatnam with cost 75.0 (mode: waterway)\n",
      "Considering path from Kolkata to Chennai with cost 150.0 (mode: railway)\n",
      "Considering path from Mumbai to Chennai with cost 89.1 (mode: highway)\n",
      "Considering path from Mumbai to Pune with cost 28.099999999999994 (mode: highway)\n",
      "Considering path from Mumbai to Nagpur with cost 87.89999999999999 (mode: railway)\n",
      "Considering path from Mumbai to Delhi with cost 125.0 (mode: highway)\n",
      "Considering path from Mumbai to Ahmedabad with cost 50.0 (mode: highway)\n",
      "Considering path from Mumbai to Indore with cost 75.0 (mode: highway)\n",
      "Considering path from Mumbai to Surat with cost 50.0 (mode: highway)\n",
      "Considering path from Mumbai to Chennai with cost 89.1 (mode: highway)\n",
      "Considering path from Mumbai to Pune with cost 28.099999999999994 (mode: highway)\n",
      "Considering path from Mumbai to Nagpur with cost 87.89999999999999 (mode: railway)\n",
      "Considering path from Mumbai to Delhi with cost 125.0 (mode: highway)\n",
      "Considering path from Mumbai to Ahmedabad with cost 50.0 (mode: highway)\n",
      "Considering path from Mumbai to Indore with cost 75.0 (mode: highway)\n",
      "Considering path from Mumbai to Surat with cost 50.0 (mode: highway)\n",
      "Considering path from Mumbai to Chennai with cost 89.1 (mode: highway)\n",
      "Considering path from Mumbai to Pune with cost 28.099999999999994 (mode: highway)\n",
      "Considering path from Mumbai to Nagpur with cost 87.89999999999999 (mode: railway)\n",
      "Considering path from Mumbai to Delhi with cost 125.0 (mode: highway)\n",
      "Considering path from Mumbai to Ahmedabad with cost 50.0 (mode: highway)\n",
      "Considering path from Mumbai to Indore with cost 75.0 (mode: highway)\n",
      "Considering path from Mumbai to Surat with cost 50.0 (mode: highway)\n",
      "Considering path from Ranchi to Bhubaneswar with cost 50.0 (mode: highway)\n",
      "Considering path from Ranchi to Patna with cost 37.5 (mode: highway)\n",
      "Considering path from Mumbai to Chennai with cost 89.1 (mode: highway)\n",
      "Considering path from Mumbai to Pune with cost 28.099999999999994 (mode: highway)\n",
      "Considering path from Mumbai to Nagpur with cost 87.89999999999999 (mode: railway)\n",
      "Considering path from Mumbai to Delhi with cost 125.0 (mode: highway)\n",
      "Considering path from Mumbai to Ahmedabad with cost 50.0 (mode: highway)\n",
      "Considering path from Mumbai to Indore with cost 75.0 (mode: highway)\n",
      "Considering path from Mumbai to Surat with cost 50.0 (mode: highway)\n",
      "Considering path from Ranchi to Bhubaneswar with cost 50.0 (mode: highway)\n",
      "Considering path from Ranchi to Patna with cost 37.5 (mode: highway)\n",
      "Considering path from Bhubaneswar to Chennai with cost 125.0 (mode: railway)\n",
      "Path taken: ['Shillong', 'Guwahati', 'Kolkata', 'Visakhapatnam']\n",
      "Total path cost: 188.8\n",
      "Optimal Path with Dynamic Factors: ['Shillong', 'Guwahati', 'Kolkata', 'Visakhapatnam']\n"
     ]
    }
   ],
   "source": [
    "# Run A* search with dynamic factors\n",
    "optimal_path = a_star_search_dynamic_print_path(selected_start, selected_goal, nodes, edges, transfers, selected_time_window, dynamic_factors)\n",
    "\n",
    "print(\"Optimal Path with Dynamic Factors:\", optimal_path)"
   ]
  },
  {
   "cell_type": "markdown",
   "metadata": {},
   "source": [
    "## UTILITY CODE"
   ]
  },
  {
   "cell_type": "code",
   "execution_count": 77,
   "metadata": {},
   "outputs": [],
   "source": [
    "#The following is a helper code the make all routes bidirectional\n",
    "import pandas as pd\n",
    "\n",
    "# Load the CSV data into a DataFrame\n",
    "df = pd.read_csv(\"edges.csv\")\n",
    "\n",
    "# Create a new DataFrame with reversed routes\n",
    "reversed_df = df.copy()\n",
    "reversed_df.columns = ['to_node', 'from_node', 'mode', 'cost', 'time']\n",
    "\n",
    "# Combine original and reversed dataframes\n",
    "combined_df = pd.concat([df, reversed_df], ignore_index=True)\n",
    "\n",
    "# Remove duplicate routes (if any)\n",
    "combined_df = combined_df.drop_duplicates()\n",
    "\n",
    "# Save the modified DataFrame to a new CSV file\n",
    "combined_df.to_csv(\"edges.csv\", index=False)"
   ]
  }
 ],
 "metadata": {
  "kernelspec": {
   "display_name": "Python 3",
   "language": "python",
   "name": "python3"
  },
  "language_info": {
   "codemirror_mode": {
    "name": "ipython",
    "version": 3
   },
   "file_extension": ".py",
   "mimetype": "text/x-python",
   "name": "python",
   "nbconvert_exporter": "python",
   "pygments_lexer": "ipython3",
   "version": "3.11.0"
  }
 },
 "nbformat": 4,
 "nbformat_minor": 2
}
