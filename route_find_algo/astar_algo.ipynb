{
 "cells": [
  {
   "cell_type": "code",
   "execution_count": 1,
   "metadata": {},
   "outputs": [],
   "source": [
    "import csv\n",
    "import heapq"
   ]
  },
  {
   "cell_type": "markdown",
   "metadata": {},
   "source": [
    "## REQUIRED HELPER FUNCTIONS"
   ]
  },
  {
   "cell_type": "code",
   "execution_count": 2,
   "metadata": {},
   "outputs": [],
   "source": [
    "class Node:\n",
    "    def __init__(self, name, g_cost, h_cost, parent=None):\n",
    "        self.name = name\n",
    "        self.g_cost = g_cost  # Cost from start to current node\n",
    "        self.h_cost = h_cost  # Heuristic cost from current node to goal\n",
    "        self.f_cost = g_cost + h_cost  # Total cost\n",
    "        self.parent = parent\n",
    "\n",
    "    def __lt__(self, other):\n",
    "        return self.f_cost < other.f_cost"
   ]
  },
  {
   "cell_type": "code",
   "execution_count": 3,
   "metadata": {},
   "outputs": [],
   "source": [
    "def load_nodes(filename):\n",
    "    nodes = {}\n",
    "    with open(filename, 'r') as csvfile:\n",
    "        reader = csv.DictReader(csvfile)\n",
    "        for row in reader:\n",
    "            nodes[row['node_name']] = {\n",
    "                'type': row['type'],\n",
    "                'x': float(row['x']),\n",
    "                'y': float(row['y'])\n",
    "            }\n",
    "    return nodes"
   ]
  },
  {
   "cell_type": "code",
   "execution_count": 4,
   "metadata": {},
   "outputs": [],
   "source": [
    "def load_edges(filename):\n",
    "    edges = {}\n",
    "    with open(filename, 'r') as csvfile:\n",
    "        reader = csv.DictReader(csvfile)\n",
    "        for row in reader:\n",
    "            if row['from_node'] not in edges:\n",
    "                edges[row['from_node']] = []\n",
    "            edges[row['from_node']].append((row['to_node'], int(row['cost']), row['mode'], int(row['time'])))\n",
    "    return edges"
   ]
  },
  {
   "cell_type": "code",
   "execution_count": 5,
   "metadata": {},
   "outputs": [],
   "source": [
    "def load_transfers(filename):\n",
    "    transfers = {}\n",
    "    with open(filename, 'r') as csvfile:\n",
    "        reader = csv.DictReader(csvfile)\n",
    "        for row in reader:\n",
    "            if row['node_name'] not in transfers:\n",
    "                transfers[row['node_name']] = []\n",
    "            transfers[row['node_name']].append({\n",
    "                'from_mode': row['from_mode'],\n",
    "                'to_mode': row['to_mode'],\n",
    "                'cost': int(row['transfer_cost']),\n",
    "                'time': float(row['transfer_time'])\n",
    "            })\n",
    "    return transfers"
   ]
  },
  {
   "cell_type": "code",
   "execution_count": 6,
   "metadata": {},
   "outputs": [],
   "source": [
    "def load_dynamic_factors(filename):\n",
    "    factors = {}\n",
    "    with open(filename, 'r') as csvfile:\n",
    "        reader = csv.DictReader(csvfile)\n",
    "        for row in reader:\n",
    "            factors[(row['from_node'], row['to_node'])] = {\n",
    "                'accident_risk': float(row['accident_risk']),\n",
    "                'congestion_factor': float(row['congestion_factor']),\n",
    "                'weather_delay': float(row['weather_delay']),\n",
    "            }\n",
    "    return factors"
   ]
  },
  {
   "cell_type": "code",
   "execution_count": 7,
   "metadata": {},
   "outputs": [],
   "source": [
    "def adjust_costs_dynamic(node, to_node, base_cost, current_conditions):\n",
    "    \"\"\"\n",
    "    Adjust the cost dynamically based on conditions like accidents, weather, etc.\n",
    "    \"\"\"\n",
    "    factor = current_conditions.get((node, to_node), {})\n",
    "    accident_risk = factor.get('accident_risk', 1)\n",
    "    congestion_factor = factor.get('congestion_factor', 1)\n",
    "    weather_delay = factor.get('weather_delay', 1)\n",
    "\n",
    "    w1=0.4 #accident risk\n",
    "    w2=0.5 #congestion factor\n",
    "    w3=0.6 #weather delay\n",
    "    \n",
    "    adjusted_cost = base_cost * (1 + w1 * accident_risk + w2 * congestion_factor + w3 * weather_delay)\n",
    "\n",
    "    return adjusted_cost"
   ]
  },
  {
   "cell_type": "code",
   "execution_count": 8,
   "metadata": {},
   "outputs": [],
   "source": [
    "def manhattan_distance(node, goal_node):\n",
    "    # Simplified Manhattan distance as heuristic\n",
    "    return abs(node['x'] - goal_node['x']) + abs(node['y'] - goal_node['y'])\n"
   ]
  },
  {
   "cell_type": "markdown",
   "metadata": {},
   "source": [
    "## PLOTTING THE GRAPH"
   ]
  },
  {
   "cell_type": "code",
   "execution_count": 14,
   "metadata": {},
   "outputs": [],
   "source": [
    "#!pip install networkx"
   ]
  },
  {
   "cell_type": "code",
   "execution_count": 15,
   "metadata": {},
   "outputs": [],
   "source": [
    "#!pip install --user matplotlib"
   ]
  },
  {
   "cell_type": "code",
   "execution_count": 9,
   "metadata": {},
   "outputs": [],
   "source": [
    "import pandas as pd\n",
    "import numpy as np\n",
    "import networkx as nx\n",
    "import matplotlib.pyplot as plt"
   ]
  },
  {
   "cell_type": "code",
   "execution_count": null,
   "metadata": {},
   "outputs": [],
   "source": [
    "# Function to convert latitude and longitude to Mercator projection\n",
    "def mercator_projection(lat, lon):\n",
    "    R = 6378137  # Radius of the Earth in meters\n",
    "    x = R * np.radians(lon)\n",
    "    y = R * np.log(np.tan(np.pi / 4 + np.radians(lat) / 2))\n",
    "    x=x*50\n",
    "    y=y*50\n",
    "    return x, y\n",
    "\n",
    "# Read the nodes data (replace with your CSV path)\n",
    "nodes = pd.read_csv('nodes.csv')\n",
    "\n",
    "# Apply Mercator projection to convert lat/lon to x/y coordinates\n",
    "nodes['scaled_x'], nodes['scaled_y'] = zip(*nodes.apply(lambda row: mercator_projection(row['x'], row['y']), axis=1))\n",
    "\n",
    "# Save to a new CSV file, retaining the original data and adding projected coordinates\n",
    "nodes.to_csv('mercator_nodes.csv', index=False)\n",
    "\n",
    "# Read the edges data (replace with your CSV path)\n",
    "edges = pd.read_csv('edges.csv')\n",
    "\n",
    "# Create a graph using networkx\n",
    "G = nx.Graph()\n",
    "\n",
    "# Add nodes with positions (Mercator projected coordinates)\n",
    "for index, row in nodes.iterrows():\n",
    "    G.add_node(row['node_name'], pos=(row['scaled_x'], row['scaled_y']))\n",
    "\n",
    "# Add edges with time and cost (from the original CSV)\n",
    "for index, row in edges.iterrows():\n",
    "    if row['from_node'] in G.nodes and row['to_node'] in G.nodes:\n",
    "        G.add_edge(row['from_node'], row['to_node'], weight=row['cost'], time=row['time'])\n",
    "    else:\n",
    "        print(f\"Warning: Edge from {row['from_node']} to {row['to_node']} references a node not in the graph\")\n",
    "\n",
    "# Get positions for drawing the graph\n",
    "pos = nx.get_node_attributes(G, 'pos')\n",
    "\n",
    "# Draw the graph\n",
    "plt.figure(figsize=(20, 20))\n",
    "nx.draw(G, pos, with_labels=True, node_size=500, node_color='skyblue', font_size=10, font_weight='bold')\n",
    "\n",
    "# Draw edge labels with costs\n",
    "edge_labels = {(row['from_node'], row['to_node']): row['cost'] for _, row in edges.iterrows() if row['from_node'] in G.nodes and row['to_node'] in G.nodes}\n",
    "nx.draw_networkx_edge_labels(G, pos, edge_labels=edge_labels)\n",
    "\n",
    "plt.title(\"Graph of Nodes with Mercator Projection Coordinates\")\n",
    "plt.show()"
   ]
  },
  {
   "cell_type": "markdown",
   "metadata": {},
   "source": [
    "## TAKING THE INPUT"
   ]
  },
  {
   "cell_type": "code",
   "execution_count": 18,
   "metadata": {},
   "outputs": [],
   "source": [
    "#%pip install ipywidgets "
   ]
  },
  {
   "cell_type": "code",
   "execution_count": 39,
   "metadata": {},
   "outputs": [
    {
     "data": {
      "application/vnd.jupyter.widget-view+json": {
       "model_id": "81e6208f40764c6694456fc4254efc8e",
       "version_major": 2,
       "version_minor": 0
      },
      "text/plain": [
       "Dropdown(description='Start:', options=('Guwahati', 'Dispur', 'Tezpur', 'Jorhat', 'Dibrugarh', 'Silchar', 'Tin…"
      ]
     },
     "metadata": {},
     "output_type": "display_data"
    },
    {
     "data": {
      "application/vnd.jupyter.widget-view+json": {
       "model_id": "d5d7d359c3394ba5991857cf4772cee2",
       "version_major": 2,
       "version_minor": 0
      },
      "text/plain": [
       "Dropdown(description='Goal:', options=('Guwahati', 'Dispur', 'Tezpur', 'Jorhat', 'Dibrugarh', 'Silchar', 'Tins…"
      ]
     },
     "metadata": {},
     "output_type": "display_data"
    },
    {
     "data": {
      "application/vnd.jupyter.widget-view+json": {
       "model_id": "3705a18362004c4bad56c8e7c60ba939",
       "version_major": 2,
       "version_minor": 0
      },
      "text/plain": [
       "IntSlider(value=100, description='Time Window:', max=1000, min=1, step=10)"
      ]
     },
     "metadata": {},
     "output_type": "display_data"
    }
   ],
   "source": [
    "from IPython.display import display\n",
    "import ipywidgets as widgets\n",
    "\n",
    "# Load unique city names from file\n",
    "with open('unique_city_names.txt', 'r') as file:\n",
    "    unique_cities = [line.strip() for line in file]\n",
    "\n",
    "# Create dropdown widgets for start and goal cities\n",
    "start_dropdown = widgets.Dropdown(\n",
    "    options=unique_cities,\n",
    "    description='Start:',\n",
    "    value='Guwahati'\n",
    ")\n",
    "\n",
    "goal_dropdown = widgets.Dropdown(\n",
    "    options=unique_cities,\n",
    "    description='Goal:',\n",
    "    value='Guwahati'\n",
    ")\n",
    "\n",
    "# Create an integer slider for the time window\n",
    "time_window_slider = widgets.IntSlider(\n",
    "    value=100,\n",
    "    min=1,\n",
    "    max=1000,\n",
    "    step=10,\n",
    "    description='Time Window:'\n",
    ")\n",
    "\n",
    "# Display the widgets\n",
    "display(start_dropdown, goal_dropdown, time_window_slider)\n",
    "\n",
    "# Global variables to store the selected values\n",
    "selected_start = start_dropdown.value\n",
    "selected_goal = goal_dropdown.value\n",
    "selected_time_window = time_window_slider.value\n",
    "\n",
    "# Function to update the global variables when the widget value changes\n",
    "def update_start(change):\n",
    "    global selected_start\n",
    "    selected_start = change['new']\n",
    "\n",
    "def update_goal(change):\n",
    "    global selected_goal\n",
    "    selected_goal = change['new']\n",
    "\n",
    "def update_time_window(change):\n",
    "    global selected_time_window\n",
    "    selected_time_window = change['new']\n",
    "\n",
    "# Add observers to the widgets to update global variables dynamically\n",
    "start_dropdown.observe(update_start, names='value')\n",
    "goal_dropdown.observe(update_goal, names='value')\n",
    "time_window_slider.observe(update_time_window, names='value')\n",
    "\n",
    "# Now the values of selected_start, selected_goal, and selected_time_window\n",
    "# will be globally accessible and updated dynamically when the widgets are changed.\n"
   ]
  },
  {
   "cell_type": "markdown",
   "metadata": {},
   "source": [
    "## A* ALGORITHM"
   ]
  },
  {
   "cell_type": "code",
   "execution_count": 14,
   "metadata": {},
   "outputs": [],
   "source": [
    "def a_star_search_dynamic(start, goal, nodes, edges, transfers, time_window, current_conditions):\n",
    "    open_list = []\n",
    "    closed_list = set()\n",
    "    \n",
    "    start_node = Node(start, 0, manhattan_distance(nodes[start], nodes[goal]))\n",
    "    heapq.heappush(open_list, start_node)\n",
    "    \n",
    "    while open_list:\n",
    "        current_node = heapq.heappop(open_list)\n",
    "        \n",
    "        if current_node.name == goal:\n",
    "            path = []\n",
    "            while current_node:\n",
    "                path.append(current_node.name)\n",
    "                current_node = current_node.parent\n",
    "            return path[::-1]\n",
    "        \n",
    "        closed_list.add(current_node.name)\n",
    "        \n",
    "        if current_node.name not in edges:\n",
    "            continue\n",
    "        \n",
    "        for neighbor, base_cost, mode, travel_time in edges[current_node.name]:\n",
    "            if neighbor in closed_list:\n",
    "                continue\n",
    "            \n",
    "            adjusted_cost = adjust_costs_dynamic(current_node.name, neighbor, base_cost, current_conditions)\n",
    "            g_cost = current_node.g_cost + adjusted_cost\n",
    "            \n",
    "            if g_cost > time_window:\n",
    "                continue\n",
    "            \n",
    "            h_cost = manhattan_distance(nodes[neighbor], nodes[goal])\n",
    "            neighbor_node = Node(neighbor, g_cost, h_cost, current_node)\n",
    "            heapq.heappush(open_list, neighbor_node)\n",
    "    \n",
    "    return None"
   ]
  },
  {
   "cell_type": "code",
   "execution_count": 15,
   "metadata": {},
   "outputs": [],
   "source": [
    "def a_star_search_dynamic_print_path(start, goal, nodes, edges, transfers, time_window, current_conditions):\n",
    "    open_list = []\n",
    "    closed_list = set()\n",
    "    \n",
    "    try:\n",
    "        start_node = Node(start, 0, manhattan_distance(nodes[start], nodes[goal]))\n",
    "    except KeyError as e:\n",
    "        print(f\"Error: {e} not found in nodes dictionary\")\n",
    "        return None\n",
    "    \n",
    "    heapq.heappush(open_list, start_node)\n",
    "    \n",
    "    while open_list:\n",
    "        current_node = heapq.heappop(open_list)\n",
    "        \n",
    "        if current_node.name == goal:\n",
    "            path = []\n",
    "            total_cost = current_node.g_cost\n",
    "            while current_node:\n",
    "                path.append(current_node.name)\n",
    "                current_node = current_node.parent\n",
    "            print(f\"Path taken: {path[::-1]}\")\n",
    "            print(f\"Total path cost: {total_cost}\")\n",
    "            return path[::-1]\n",
    "        \n",
    "        closed_list.add(current_node.name)\n",
    "        \n",
    "        if current_node.name not in edges:\n",
    "            continue\n",
    "        \n",
    "        for neighbor, base_cost, mode, travel_time in edges[current_node.name]:\n",
    "            if neighbor in closed_list:\n",
    "                continue\n",
    "            \n",
    "            adjusted_cost = adjust_costs_dynamic(current_node.name, neighbor, base_cost, current_conditions)\n",
    "            g_cost = current_node.g_cost + adjusted_cost\n",
    "            \n",
    "            if g_cost > time_window:\n",
    "                continue\n",
    "            \n",
    "            h_cost = manhattan_distance(nodes[neighbor], nodes[goal])\n",
    "            neighbor_node = Node(neighbor, g_cost, h_cost, current_node)\n",
    "            heapq.heappush(open_list, neighbor_node)\n",
    "            \n",
    "            print(f\"Considering path from {current_node.name} to {neighbor} with cost {adjusted_cost} (mode: {mode})\")\n",
    "    \n",
    "    print(\"No path found\")\n",
    "    return None"
   ]
  },
  {
   "cell_type": "markdown",
   "metadata": {},
   "source": [
    "## RUN THE CODE"
   ]
  },
  {
   "cell_type": "code",
   "execution_count": 41,
   "metadata": {},
   "outputs": [],
   "source": [
    "# Load data from CSV files\n",
    "nodes = load_nodes('nodes.csv')\n",
    "edges = load_edges('edges.csv')\n",
    "dynamic_factors = load_dynamic_factors('dynamic_factors.csv')\n",
    "transfers = load_transfers('transfer.csv')"
   ]
  },
  {
   "cell_type": "code",
   "execution_count": 42,
   "metadata": {},
   "outputs": [
    {
     "name": "stdout",
     "output_type": "stream",
     "text": [
      "Considering path from Guwahati to Barpeta with cost 39.45 (mode: highway)\n",
      "Considering path from Guwahati to Biswanath with cost 52.60000000000001 (mode: highway)\n",
      "Considering path from Guwahati to North Lakhimpur with cost 69.5 (mode: highway)\n",
      "Considering path from Guwahati to Sonitpur with cost 75.0 (mode: highway)\n",
      "Considering path from Guwahati to Golaghat with cost 100.0 (mode: railway)\n",
      "Path taken: ['Guwahati', 'Barpeta']\n",
      "Total path cost: 39.45\n",
      "Optimal Path with Dynamic Factors: ['Guwahati', 'Barpeta']\n"
     ]
    }
   ],
   "source": [
    "# Run A* search with dynamic factors\n",
    "optimal_path = a_star_search_dynamic_print_path(selected_start, selected_goal, nodes, edges, transfers, selected_time_window, dynamic_factors)\n",
    "\n",
    "print(\"Optimal Path with Dynamic Factors:\", optimal_path)"
   ]
  },
  {
   "cell_type": "markdown",
   "metadata": {},
   "source": [
    "## UTILITY CODE"
   ]
  },
  {
   "cell_type": "code",
   "execution_count": 26,
   "metadata": {},
   "outputs": [],
   "source": [
    "#The following is a helper code the make all routes bidirectional\n",
    "import pandas as pd\n",
    "\n",
    "# Load the CSV data into a DataFrame\n",
    "df = pd.read_csv(\"edges.csv\")\n",
    "\n",
    "# Create a new DataFrame with reversed routes\n",
    "reversed_df = df.copy()\n",
    "reversed_df.columns = ['to_node', 'from_node', 'mode', 'cost', 'time']\n",
    "\n",
    "# Combine original and reversed dataframes\n",
    "combined_df = pd.concat([df, reversed_df], ignore_index=True)\n",
    "\n",
    "# Remove duplicate routes (if any)\n",
    "combined_df = combined_df.drop_duplicates()\n",
    "\n",
    "# Save the modified DataFrame to a new CSV file\n",
    "combined_df.to_csv(\"edges.csv\", index=False)"
   ]
  },
  {
   "cell_type": "code",
   "execution_count": 34,
   "metadata": {},
   "outputs": [
    {
     "name": "stdout",
     "output_type": "stream",
     "text": [
      "City names updated successfully in all files.\n"
     ]
    }
   ],
   "source": [
    "#This code is to change the city name mapping\n",
    "\n",
    "import pandas as pd\n",
    "\n",
    "# Define the new city names (various cities and districts of Assam)\n",
    "new_city_names = [\n",
    "    'Guwahati', 'Dispur', 'Tezpur', 'Jorhat', 'Dibrugarh', 'Silchar', 'Tinsukia', 'Nagaon', 'Sivasagar', \n",
    "    'North Lakhimpur', 'Dhubri', 'Goalpara', 'Barpeta', 'Bongaigaon', 'Karimganj', 'Hailakandi', \n",
    "    'Dima Hasao', 'Golaghat', 'Morigaon', 'Nalbari', 'Baksa', 'Chirang', 'Kokrajhar', 'Udalguri', \n",
    "    'Sonitpur', 'Biswanath', 'Majuli', 'Hojai', 'Charaideo', 'South Salmara-Mankachar', 'Dhemaji', \n",
    "    'Lakhimpur', 'Kamrup', 'Kamrup Metropolitan'\n",
    "]\n",
    "\n",
    "# Ensure the number of new city names matches the number of old city names\n",
    "assert len(new_city_names) == 34, \"The number of new city names must match the number of old city names.\"\n",
    "\n",
    "# Read the existing nodes data\n",
    "nodes = pd.read_csv('nodes.csv')\n",
    "\n",
    "# Create a mapping from old city names to new city names\n",
    "old_city_names = nodes['node_name'].tolist()\n",
    "city_name_mapping = dict(zip(old_city_names, new_city_names))\n",
    "\n",
    "# Function to replace old city names with new city names in a DataFrame\n",
    "def replace_city_names(df, columns):\n",
    "    for col in columns:\n",
    "        df[col] = df[col].map(city_name_mapping)\n",
    "    return df\n",
    "\n",
    "# Update nodes.csv\n",
    "nodes['node_name'] = nodes['node_name'].map(city_name_mapping)\n",
    "nodes.to_csv('nodes_updated.csv', index=False)\n",
    "\n",
    "# Update transfer.csv\n",
    "transfer = pd.read_csv('transfer.csv')\n",
    "transfer = replace_city_names(transfer, ['node_name'])\n",
    "transfer.to_csv('transfer_updated.csv', index=False)\n",
    "\n",
    "# Update dynamic_factors.csv\n",
    "dynamic_factors = pd.read_csv('dynamic_factors.csv')\n",
    "dynamic_factors = replace_city_names(dynamic_factors, ['from_node', 'to_node'])\n",
    "dynamic_factors.to_csv('dynamic_factors_updated.csv', index=False)\n",
    "\n",
    "# Update edges.csv\n",
    "edges = pd.read_csv('edges.csv')\n",
    "edges = replace_city_names(edges, ['from_node', 'to_node'])\n",
    "edges.to_csv('edges_updated.csv', index=False)\n",
    "\n",
    "print(\"City names updated successfully in all files.\")"
   ]
  },
  {
   "cell_type": "markdown",
   "metadata": {},
   "source": [
    "## ANIMATION"
   ]
  },
  {
   "cell_type": "code",
   "execution_count": 43,
   "metadata": {},
   "outputs": [],
   "source": [
    "import math\n",
    "import matplotlib.pyplot as plt\n",
    "from matplotlib.animation import FuncAnimation\n",
    "from matplotlib.animation import PillowWriter\n",
    "import os"
   ]
  },
  {
   "cell_type": "code",
   "execution_count": 48,
   "metadata": {},
   "outputs": [
    {
     "name": "stdout",
     "output_type": "stream",
     "text": [
      "Requirement already satisfied: Pillow in c:\\python311\\lib\\site-packages (10.3.0)\n"
     ]
    },
    {
     "name": "stderr",
     "output_type": "stream",
     "text": [
      "\n",
      "[notice] A new release of pip available: 22.3 -> 24.2\n",
      "[notice] To update, run: python.exe -m pip install --upgrade pip\n"
     ]
    }
   ],
   "source": [
    "#!pip install Pillow"
   ]
  },
  {
   "cell_type": "code",
   "execution_count": 47,
   "metadata": {},
   "outputs": [],
   "source": [
    "import matplotlib.pyplot as plt\n",
    "import networkx as nx\n",
    "import os\n",
    "import heapq\n",
    "\n",
    "class Node:\n",
    "    def __init__(self, name, g_cost, h_cost, parent=None):\n",
    "        self.name = name\n",
    "        self.g_cost = g_cost  # cost from start node\n",
    "        self.h_cost = h_cost  # heuristic cost to goal node\n",
    "        self.parent = parent\n",
    "\n",
    "    def __lt__(self, other):\n",
    "        return (self.g_cost + self.h_cost) < (other.g_cost + other.h_cost)\n",
    "\n",
    "class AStarVisualizer:\n",
    "    def __init__(self, nodes, edges):\n",
    "        self.G = nx.Graph()\n",
    "        for node, coord in nodes.items():\n",
    "            self.G.add_node(node, pos=(coord['y'], coord['x']))\n",
    "        for node, neighbors in edges.items():\n",
    "            for neighbor, base_cost, mode, travel_time in neighbors:\n",
    "                self.G.add_edge(node, neighbor)\n",
    "        \n",
    "        self.pos = nx.get_node_attributes(self.G, 'pos')\n",
    "        self.step = 0\n",
    "        \n",
    "        # Create output directory if it doesn't exist\n",
    "        self.output_dir = \"astar_steps\"\n",
    "        os.makedirs(self.output_dir, exist_ok=True)\n",
    "\n",
    "    def visualize_step(self, current_path, considered_edge, current_node=None, current_cost=None, travel_time=None, mode=None):\n",
    "        self.step += 1\n",
    "        fig, ax = plt.subplots(figsize=(12, 8))\n",
    "        \n",
    "        # Draw all nodes and edges\n",
    "        nx.draw(self.G, self.pos, with_labels=True, node_size=500, node_color='skyblue', \n",
    "                font_size=10, font_weight='bold', ax=ax)\n",
    "        \n",
    "        # Draw the current path in green\n",
    "        if current_path:\n",
    "            path_edges = list(zip(current_path[:-1], current_path[1:]))\n",
    "            nx.draw_networkx_edges(self.G, self.pos, edgelist=path_edges, edge_color='green', width=2, ax=ax)\n",
    "        \n",
    "        # Draw the considered edge in red\n",
    "        if considered_edge:\n",
    "            nx.draw_networkx_edges(self.G, self.pos, edgelist=[considered_edge], edge_color='red', width=2, ax=ax)\n",
    "        \n",
    "        # Add text annotations at the bottom right\n",
    "        if current_node is not None:\n",
    "            ax.text(0.95, 0.05, f\"Current node: {current_node}\", transform=ax.transAxes, fontsize=12, verticalalignment='bottom', horizontalalignment='right')\n",
    "        \n",
    "        if current_cost is not None and travel_time is not None and mode is not None:\n",
    "            ax.text(0.95, 0.10, f\"Cost: {current_cost}, Time: {travel_time}, Mode: {mode}\", transform=ax.transAxes, fontsize=12, verticalalignment='bottom', horizontalalignment='right')\n",
    "        \n",
    "        if current_path:\n",
    "            ax.text(0.95, 0.15, f\"Current path: {' -> '.join(current_path)}\", transform=ax.transAxes, fontsize=12, verticalalignment='bottom', horizontalalignment='right')\n",
    "        \n",
    "        ax.set_title(f\"A* Search - Step {self.step}\")\n",
    "        \n",
    "        # Save the figure\n",
    "        plt.savefig(os.path.join(self.output_dir, f\"step_{self.step:03d}.png\"))\n",
    "        plt.close(fig)\n",
    "\n",
    "def a_star_search_dynamic_visualize(start, goal, nodes, edges, transfers, time_window, current_conditions):\n",
    "    open_list = []\n",
    "    closed_list = set()\n",
    "    \n",
    "    try:\n",
    "        start_node = Node(start, 0, manhattan_distance(nodes[start], nodes[goal]))\n",
    "    except KeyError as e:\n",
    "        print(f\"Error: {e} not found in nodes dictionary\")\n",
    "        return None\n",
    "    \n",
    "    heapq.heappush(open_list, start_node)\n",
    "    \n",
    "    visualizer = AStarVisualizer(nodes, edges)\n",
    "    visualizer.visualize_step([start], None)  # Initial state\n",
    "    \n",
    "    while open_list:\n",
    "        current_node = heapq.heappop(open_list)\n",
    "        \n",
    "        if current_node.name == goal:\n",
    "            path = []\n",
    "            total_cost = current_node.g_cost\n",
    "            while current_node:\n",
    "                path.append(current_node.name)\n",
    "                current_node = current_node.parent\n",
    "            path = path[::-1]\n",
    "            print(f\"Path taken: {path}\")\n",
    "            print(f\"Total path cost: {total_cost}\")\n",
    "            \n",
    "            visualizer.visualize_step(path, None)  # Final path\n",
    "            return path\n",
    "        \n",
    "        closed_list.add(current_node.name)\n",
    "        \n",
    "        if current_node.name not in edges:\n",
    "            continue\n",
    "        \n",
    "        current_path = []\n",
    "        node = current_node\n",
    "        while node:\n",
    "            current_path.append(node.name)\n",
    "            node = node.parent\n",
    "        current_path = current_path[::-1]\n",
    "        \n",
    "        for neighbor, base_cost, mode, travel_time in edges[current_node.name]:\n",
    "            if neighbor in closed_list:\n",
    "                continue\n",
    "            \n",
    "            adjusted_cost = adjust_costs_dynamic(current_node.name, neighbor, base_cost, current_conditions)\n",
    "            g_cost = current_node.g_cost + adjusted_cost\n",
    "            \n",
    "            if g_cost > time_window:\n",
    "                continue\n",
    "            \n",
    "            h_cost = manhattan_distance(nodes[neighbor], nodes[goal])\n",
    "            neighbor_node = Node(neighbor, g_cost, h_cost, current_node)\n",
    "            \n",
    "            if neighbor_node not in open_list:\n",
    "                heapq.heappush(open_list, neighbor_node)\n",
    "                print(f\"Considering path from {current_node.name} to {neighbor} with cost {adjusted_cost} (mode: {mode})\")\n",
    "                visualizer.visualize_step(current_path, (current_node.name, neighbor), current_node.name, g_cost, travel_time, mode)\n",
    "    \n",
    "    print(\"No path found\")\n",
    "    return None"
   ]
  },
  {
   "cell_type": "code",
   "execution_count": 48,
   "metadata": {},
   "outputs": [
    {
     "name": "stdout",
     "output_type": "stream",
     "text": [
      "Considering path from Guwahati to Barpeta with cost 39.45 (mode: highway)\n",
      "Considering path from Guwahati to Biswanath with cost 52.60000000000001 (mode: highway)\n",
      "Considering path from Guwahati to North Lakhimpur with cost 69.5 (mode: highway)\n",
      "Considering path from Guwahati to Sonitpur with cost 75.0 (mode: highway)\n",
      "Considering path from Guwahati to Golaghat with cost 100.0 (mode: railway)\n",
      "Path taken: ['Guwahati', 'Barpeta']\n",
      "Total path cost: 39.45\n",
      "Optimal Path with Dynamic Factors: ['Guwahati', 'Barpeta']\n"
     ]
    }
   ],
   "source": [
    "# Run A* search with dynamic factors\n",
    "optimal_path = a_star_search_dynamic_visualize(selected_start, selected_goal, nodes, edges, transfers, selected_time_window, dynamic_factors)\n",
    "\n",
    "print(\"Optimal Path with Dynamic Factors:\", optimal_path)"
   ]
  }
 ],
 "metadata": {
  "kernelspec": {
   "display_name": "Python 3",
   "language": "python",
   "name": "python3"
  },
  "language_info": {
   "codemirror_mode": {
    "name": "ipython",
    "version": 3
   },
   "file_extension": ".py",
   "mimetype": "text/x-python",
   "name": "python",
   "nbconvert_exporter": "python",
   "pygments_lexer": "ipython3",
   "version": "3.11.0"
  }
 },
 "nbformat": 4,
 "nbformat_minor": 2
}
