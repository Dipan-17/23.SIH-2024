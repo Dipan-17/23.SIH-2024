{
 "cells": [
  {
   "cell_type": "code",
   "execution_count": 1,
   "metadata": {},
   "outputs": [],
   "source": [
    "import csv\n",
    "import heapq"
   ]
  },
  {
   "cell_type": "code",
   "execution_count": 2,
   "metadata": {},
   "outputs": [],
   "source": [
    "class Node:\n",
    "    def __init__(self, name, g_cost, h_cost, parent=None):\n",
    "        self.name = name\n",
    "        self.g_cost = g_cost  # Cost from start to current node\n",
    "        self.h_cost = h_cost  # Heuristic cost from current node to goal\n",
    "        self.f_cost = g_cost + h_cost  # Total cost\n",
    "        self.parent = parent\n",
    "\n",
    "    def __lt__(self, other):\n",
    "        return self.f_cost < other.f_cost"
   ]
  },
  {
   "cell_type": "code",
   "execution_count": 3,
   "metadata": {},
   "outputs": [],
   "source": [
    "def load_nodes(filename):\n",
    "    nodes = {}\n",
    "    with open(filename, 'r') as csvfile:\n",
    "        reader = csv.DictReader(csvfile)\n",
    "        for row in reader:\n",
    "            nodes[row['node_name']] = {\n",
    "                'type': row['type'],\n",
    "                'x': float(row['x']),\n",
    "                'y': float(row['y'])\n",
    "            }\n",
    "    return nodes"
   ]
  },
  {
   "cell_type": "code",
   "execution_count": 4,
   "metadata": {},
   "outputs": [],
   "source": [
    "def load_edges(filename):\n",
    "    edges = {}\n",
    "    with open(filename, 'r') as csvfile:\n",
    "        reader = csv.DictReader(csvfile)\n",
    "        for row in reader:\n",
    "            if row['from_node'] not in edges:\n",
    "                edges[row['from_node']] = []\n",
    "            edges[row['from_node']].append((row['to_node'], int(row['cost']), row['mode'], int(row['time'])))\n",
    "    return edges"
   ]
  },
  {
   "cell_type": "code",
   "execution_count": 5,
   "metadata": {},
   "outputs": [],
   "source": [
    "def load_transfers(filename):\n",
    "    transfers = {}\n",
    "    with open(filename, 'r') as csvfile:\n",
    "        reader = csv.DictReader(csvfile)\n",
    "        for row in reader:\n",
    "            if row['node_name'] not in transfers:\n",
    "                transfers[row['node_name']] = []\n",
    "            transfers[row['node_name']].append({\n",
    "                'from_mode': row['from_mode'],\n",
    "                'to_mode': row['to_mode'],\n",
    "                'cost': int(row['transfer_cost']),\n",
    "                'time': float(row['transfer_time'])\n",
    "            })\n",
    "    return transfers"
   ]
  },
  {
   "cell_type": "code",
   "execution_count": 6,
   "metadata": {},
   "outputs": [],
   "source": [
    "def load_dynamic_factors(filename):\n",
    "    factors = {}\n",
    "    with open(filename, 'r') as csvfile:\n",
    "        reader = csv.DictReader(csvfile)\n",
    "        for row in reader:\n",
    "            factors[(row['from_node'], row['to_node'])] = {\n",
    "                'accident_risk': float(row['accident_risk']),\n",
    "                'congestion_factor': float(row['congestion_factor']),\n",
    "                'weather_delay': float(row['weather_delay']),\n",
    "            }\n",
    "    return factors"
   ]
  },
  {
   "cell_type": "code",
   "execution_count": 7,
   "metadata": {},
   "outputs": [],
   "source": [
    "def adjust_costs_dynamic(node, to_node, base_cost, current_conditions):\n",
    "    \"\"\"\n",
    "    Adjust the cost dynamically based on conditions like accidents, weather, etc.\n",
    "    \"\"\"\n",
    "    factor = current_conditions.get((node, to_node), {})\n",
    "    accident_risk = factor.get('accident_risk', 1)\n",
    "    congestion_factor = factor.get('congestion_factor', 1)\n",
    "    weather_delay = factor.get('weather_delay', 1)\n",
    "\n",
    "    w1=0.4 #accident risk\n",
    "    w2=0.5 #congestion factor\n",
    "    w3=0.6 #weather delay\n",
    "    \n",
    "    adjusted_cost = base_cost * (1 + w1 * accident_risk + w2 * congestion_factor + w3 * weather_delay)\n",
    "\n",
    "    return adjusted_cost"
   ]
  },
  {
   "cell_type": "code",
   "execution_count": 8,
   "metadata": {},
   "outputs": [],
   "source": [
    "def manhattan_distance(node, goal_node):\n",
    "    # Simplified Manhattan distance as heuristic\n",
    "    return abs(node['x'] - goal_node['x']) + abs(node['y'] - goal_node['y'])\n"
   ]
  },
  {
   "cell_type": "markdown",
   "metadata": {},
   "source": [
    "This code works but dont use the dynamic factor to calculate cost"
   ]
  },
  {
   "cell_type": "code",
   "execution_count": 24,
   "metadata": {},
   "outputs": [],
   "source": [
    "def a_star_search_dynamic(start, goal, nodes, edges, transfers, time_window, dynamic_factors):\n",
    "    # Initialize open and closed lists\n",
    "    open_list = []\n",
    "    closed_list = set()\n",
    "    \n",
    "    # Add the start node to the open list\n",
    "    open_list.append((0, start))\n",
    "    \n",
    "    # Dictionary to store the cost of reaching each node\n",
    "    g_costs = {start: 0}\n",
    "    \n",
    "    # Dictionary to store the path\n",
    "    came_from = {}\n",
    "    \n",
    "    while open_list:\n",
    "        # Get the node with the lowest cost\n",
    "        current_cost, current_node = min(open_list, key=lambda x: x[0])\n",
    "        open_list.remove((current_cost, current_node))\n",
    "        \n",
    "        # If the goal is reached, reconstruct the path\n",
    "        if current_node == goal:\n",
    "            path = []\n",
    "            while current_node in came_from:\n",
    "                path.append(current_node)\n",
    "                current_node = came_from[current_node]\n",
    "            path.append(start)\n",
    "            return path[::-1]\n",
    "        \n",
    "        closed_list.add(current_node)\n",
    "        \n",
    "        # Check if the current node has neighbors in the edges dictionary\n",
    "        if current_node not in edges:\n",
    "            continue  # Skip if no neighbors\n",
    "        \n",
    "        for neighbor, base_cost, mode, travel_time in edges[current_node]:\n",
    "            if neighbor in closed_list:\n",
    "                continue\n",
    "            \n",
    "            # Calculate the cost to reach the neighbor\n",
    "            tentative_g_cost = g_costs[current_node] + base_cost\n",
    "            \n",
    "            if neighbor not in g_costs or tentative_g_cost < g_costs[neighbor]:\n",
    "                g_costs[neighbor] = tentative_g_cost\n",
    "                total_cost = tentative_g_cost  # Add heuristic if needed\n",
    "                open_list.append((total_cost, neighbor))\n",
    "                came_from[neighbor] = current_node\n",
    "    \n",
    "    return None  # Return None if no path is found\n",
    "\n"
   ]
  },
  {
   "cell_type": "markdown",
   "metadata": {},
   "source": [
    "Code to take care of adjusted factors also"
   ]
  },
  {
   "cell_type": "code",
   "execution_count": 28,
   "metadata": {},
   "outputs": [],
   "source": [
    "def a_star_search_dynamic(start, goal, nodes, edges, transfers, time_window, current_conditions):\n",
    "    open_list = []\n",
    "    closed_list = set()\n",
    "    \n",
    "    start_node = Node(start, 0, manhattan_distance(nodes[start], nodes[goal]))\n",
    "    heapq.heappush(open_list, start_node)\n",
    "    \n",
    "    while open_list:\n",
    "        current_node = heapq.heappop(open_list)\n",
    "        \n",
    "        if current_node.name == goal:\n",
    "            path = []\n",
    "            while current_node:\n",
    "                path.append(current_node.name)\n",
    "                current_node = current_node.parent\n",
    "            return path[::-1]\n",
    "        \n",
    "        closed_list.add(current_node.name)\n",
    "        \n",
    "        if current_node.name not in edges:\n",
    "            continue\n",
    "        \n",
    "        for neighbor, base_cost, mode, travel_time in edges[current_node.name]:\n",
    "            if neighbor in closed_list:\n",
    "                continue\n",
    "            \n",
    "            adjusted_cost = adjust_costs_dynamic(current_node.name, neighbor, base_cost, current_conditions)\n",
    "            g_cost = current_node.g_cost + adjusted_cost\n",
    "            \n",
    "            if g_cost > time_window:\n",
    "                continue\n",
    "            \n",
    "            h_cost = manhattan_distance(nodes[neighbor], nodes[goal])\n",
    "            neighbor_node = Node(neighbor, g_cost, h_cost, current_node)\n",
    "            heapq.heappush(open_list, neighbor_node)\n",
    "    \n",
    "    return None"
   ]
  },
  {
   "cell_type": "code",
   "execution_count": 10,
   "metadata": {},
   "outputs": [],
   "source": [
    "# Load data from CSV files\n",
    "nodes = load_nodes('nodes.csv')"
   ]
  },
  {
   "cell_type": "code",
   "execution_count": 34,
   "metadata": {},
   "outputs": [],
   "source": [
    "edges = load_edges('edges.csv')"
   ]
  },
  {
   "cell_type": "code",
   "execution_count": 12,
   "metadata": {},
   "outputs": [],
   "source": [
    "transfers = load_transfers('transfer.csv')"
   ]
  },
  {
   "cell_type": "code",
   "execution_count": 32,
   "metadata": {},
   "outputs": [],
   "source": [
    "dynamic_factors = load_dynamic_factors('dynamic_factors.csv')"
   ]
  },
  {
   "cell_type": "code",
   "execution_count": 22,
   "metadata": {},
   "outputs": [],
   "source": [
    "# Define start, goal, and time window\n",
    "start = 'Delhi'\n",
    "goal = 'Chennai'\n",
    "time_window = 100\n"
   ]
  },
  {
   "cell_type": "code",
   "execution_count": 35,
   "metadata": {},
   "outputs": [
    {
     "name": "stdout",
     "output_type": "stream",
     "text": [
      "Optimal Path with Dynamic Factors: ['Delhi', 'Kolkata', 'Chennai']\n"
     ]
    }
   ],
   "source": [
    "# Run A* search with dynamic factors\n",
    "optimal_path = a_star_search_dynamic(start, goal, nodes, edges, transfers, time_window, dynamic_factors)\n",
    "print(\"Optimal Path with Dynamic Factors:\", optimal_path)"
   ]
  }
 ],
 "metadata": {
  "kernelspec": {
   "display_name": "Python 3",
   "language": "python",
   "name": "python3"
  },
  "language_info": {
   "codemirror_mode": {
    "name": "ipython",
    "version": 3
   },
   "file_extension": ".py",
   "mimetype": "text/x-python",
   "name": "python",
   "nbconvert_exporter": "python",
   "pygments_lexer": "ipython3",
   "version": "3.11.0"
  }
 },
 "nbformat": 4,
 "nbformat_minor": 2
}
