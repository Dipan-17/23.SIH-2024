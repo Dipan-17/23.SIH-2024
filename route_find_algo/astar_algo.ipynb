{
 "cells": [
  {
   "cell_type": "code",
   "execution_count": 5,
   "metadata": {},
   "outputs": [],
   "source": [
    "%matplotlib notebook"
   ]
  },
  {
   "cell_type": "code",
   "execution_count": 6,
   "metadata": {},
   "outputs": [],
   "source": [
    "import csv\n",
    "import heapq"
   ]
  },
  {
   "cell_type": "markdown",
   "metadata": {},
   "source": [
    "## REQUIRED HELPER FUNCTIONS"
   ]
  },
  {
   "cell_type": "code",
   "execution_count": 7,
   "metadata": {},
   "outputs": [],
   "source": [
    "class Node:\n",
    "    def __init__(self, name, g_cost, h_cost, parent=None):\n",
    "        self.name = name\n",
    "        self.g_cost = g_cost  # Cost from start to current node\n",
    "        self.h_cost = h_cost  # Heuristic cost from current node to goal\n",
    "        self.f_cost = g_cost + h_cost  # Total cost\n",
    "        self.parent = parent\n",
    "\n",
    "    def __lt__(self, other):\n",
    "        return self.f_cost < other.f_cost"
   ]
  },
  {
   "cell_type": "code",
   "execution_count": 8,
   "metadata": {},
   "outputs": [],
   "source": [
    "def load_nodes(filename):\n",
    "    nodes = {}\n",
    "    with open(filename, 'r') as csvfile:\n",
    "        reader = csv.DictReader(csvfile)\n",
    "        for row in reader:\n",
    "            nodes[row['node_name']] = {\n",
    "                'type': row['type'],\n",
    "                'x': float(row['x']),\n",
    "                'y': float(row['y'])\n",
    "            }\n",
    "    return nodes"
   ]
  },
  {
   "cell_type": "code",
   "execution_count": 9,
   "metadata": {},
   "outputs": [],
   "source": [
    "def load_edges(filename):\n",
    "    edges = {}\n",
    "    with open(filename, 'r') as csvfile:\n",
    "        reader = csv.DictReader(csvfile)\n",
    "        for row in reader:\n",
    "            if row['from_node'] not in edges:\n",
    "                edges[row['from_node']] = []\n",
    "            edges[row['from_node']].append((row['to_node'], int(row['cost']), row['mode'], int(row['time'])))\n",
    "    return edges"
   ]
  },
  {
   "cell_type": "code",
   "execution_count": 10,
   "metadata": {},
   "outputs": [],
   "source": [
    "def load_transfers(filename):\n",
    "    transfers = {}\n",
    "    with open(filename, 'r') as csvfile:\n",
    "        reader = csv.DictReader(csvfile)\n",
    "        for row in reader:\n",
    "            if row['node_name'] not in transfers:\n",
    "                transfers[row['node_name']] = []\n",
    "            transfers[row['node_name']].append({\n",
    "                'from_mode': row['from_mode'],\n",
    "                'to_mode': row['to_mode'],\n",
    "                'cost': int(row['transfer_cost']),\n",
    "                'time': float(row['transfer_time'])\n",
    "            })\n",
    "    return transfers"
   ]
  },
  {
   "cell_type": "code",
   "execution_count": 11,
   "metadata": {},
   "outputs": [],
   "source": [
    "def load_dynamic_factors(filename):\n",
    "    factors = {}\n",
    "    with open(filename, 'r') as csvfile:\n",
    "        reader = csv.DictReader(csvfile)\n",
    "        for row in reader:\n",
    "            factors[(row['from_node'], row['to_node'])] = {\n",
    "                'accident_risk': float(row['accident_risk']),\n",
    "                'congestion_factor': float(row['congestion_factor']),\n",
    "                'weather_delay': float(row['weather_delay']),\n",
    "            }\n",
    "    return factors"
   ]
  },
  {
   "cell_type": "code",
   "execution_count": 12,
   "metadata": {},
   "outputs": [],
   "source": [
    "def adjust_costs_dynamic(node, to_node, base_cost, current_conditions):\n",
    "    \"\"\"\n",
    "    Adjust the cost dynamically based on conditions like accidents, weather, etc.\n",
    "    \"\"\"\n",
    "    factor = current_conditions.get((node, to_node), {})\n",
    "    accident_risk = factor.get('accident_risk', 1)\n",
    "    congestion_factor = factor.get('congestion_factor', 1)\n",
    "    weather_delay = factor.get('weather_delay', 1)\n",
    "\n",
    "    w1=0.4 #accident risk\n",
    "    w2=0.5 #congestion factor\n",
    "    w3=0.6 #weather delay\n",
    "    \n",
    "    adjusted_cost = base_cost * (1 + w1 * accident_risk + w2 * congestion_factor + w3 * weather_delay)\n",
    "\n",
    "    return adjusted_cost"
   ]
  },
  {
   "cell_type": "code",
   "execution_count": 13,
   "metadata": {},
   "outputs": [],
   "source": [
    "def manhattan_distance(node, goal_node):\n",
    "    # Simplified Manhattan distance as heuristic\n",
    "    return abs(node['x'] - goal_node['x']) + abs(node['y'] - goal_node['y'])\n"
   ]
  },
  {
   "cell_type": "code",
   "execution_count": 125,
   "metadata": {},
   "outputs": [],
   "source": []
  },
  {
   "cell_type": "markdown",
   "metadata": {},
   "source": [
    "## PLOTTING THE GRAPH"
   ]
  },
  {
   "cell_type": "code",
   "execution_count": 14,
   "metadata": {},
   "outputs": [],
   "source": [
    "#!pip install networkx"
   ]
  },
  {
   "cell_type": "code",
   "execution_count": 15,
   "metadata": {},
   "outputs": [],
   "source": [
    "#!pip install --user matplotlib"
   ]
  },
  {
   "cell_type": "code",
   "execution_count": 16,
   "metadata": {},
   "outputs": [],
   "source": [
    "import pandas as pd\n",
    "import numpy as np\n",
    "import networkx as nx\n",
    "import matplotlib.pyplot as plt"
   ]
  },
  {
   "cell_type": "code",
   "execution_count": 17,
   "metadata": {},
   "outputs": [
    {
     "data": {
      "application/javascript": "/* Put everything inside the global mpl namespace */\n/* global mpl */\nwindow.mpl = {};\n\nmpl.get_websocket_type = function () {\n    if (typeof WebSocket !== 'undefined') {\n        return WebSocket;\n    } else if (typeof MozWebSocket !== 'undefined') {\n        return MozWebSocket;\n    } else {\n        alert(\n            'Your browser does not have WebSocket support. ' +\n                'Please try Chrome, Safari or Firefox ≥ 6. ' +\n                'Firefox 4 and 5 are also supported but you ' +\n                'have to enable WebSockets in about:config.'\n        );\n    }\n};\n\nmpl.figure = function (figure_id, websocket, ondownload, parent_element) {\n    this.id = figure_id;\n\n    this.ws = websocket;\n\n    this.supports_binary = this.ws.binaryType !== undefined;\n\n    if (!this.supports_binary) {\n        var warnings = document.getElementById('mpl-warnings');\n        if (warnings) {\n            warnings.style.display = 'block';\n            warnings.textContent =\n                'This browser does not support binary websocket messages. ' +\n                'Performance may be slow.';\n        }\n    }\n\n    this.imageObj = new Image();\n\n    this.context = undefined;\n    this.message = undefined;\n    this.canvas = undefined;\n    this.rubberband_canvas = undefined;\n    this.rubberband_context = undefined;\n    this.format_dropdown = undefined;\n\n    this.image_mode = 'full';\n\n    this.root = document.createElement('div');\n    this.root.setAttribute('style', 'display: inline-block');\n    this._root_extra_style(this.root);\n\n    parent_element.appendChild(this.root);\n\n    this._init_header(this);\n    this._init_canvas(this);\n    this._init_toolbar(this);\n\n    var fig = this;\n\n    this.waiting = false;\n\n    this.ws.onopen = function () {\n        fig.send_message('supports_binary', { value: fig.supports_binary });\n        fig.send_message('send_image_mode', {});\n        if (fig.ratio !== 1) {\n            fig.send_message('set_device_pixel_ratio', {\n                device_pixel_ratio: fig.ratio,\n            });\n        }\n        fig.send_message('refresh', {});\n    };\n\n    this.imageObj.onload = function () {\n        if (fig.image_mode === 'full') {\n            // Full images could contain transparency (where diff images\n            // almost always do), so we need to clear the canvas so that\n            // there is no ghosting.\n            fig.context.clearRect(0, 0, fig.canvas.width, fig.canvas.height);\n        }\n        fig.context.drawImage(fig.imageObj, 0, 0);\n    };\n\n    this.imageObj.onunload = function () {\n        fig.ws.close();\n    };\n\n    this.ws.onmessage = this._make_on_message_function(this);\n\n    this.ondownload = ondownload;\n};\n\nmpl.figure.prototype._init_header = function () {\n    var titlebar = document.createElement('div');\n    titlebar.classList =\n        'ui-dialog-titlebar ui-widget-header ui-corner-all ui-helper-clearfix';\n    var titletext = document.createElement('div');\n    titletext.classList = 'ui-dialog-title';\n    titletext.setAttribute(\n        'style',\n        'width: 100%; text-align: center; padding: 3px;'\n    );\n    titlebar.appendChild(titletext);\n    this.root.appendChild(titlebar);\n    this.header = titletext;\n};\n\nmpl.figure.prototype._canvas_extra_style = function (_canvas_div) {};\n\nmpl.figure.prototype._root_extra_style = function (_canvas_div) {};\n\nmpl.figure.prototype._init_canvas = function () {\n    var fig = this;\n\n    var canvas_div = (this.canvas_div = document.createElement('div'));\n    canvas_div.setAttribute('tabindex', '0');\n    canvas_div.setAttribute(\n        'style',\n        'border: 1px solid #ddd;' +\n            'box-sizing: content-box;' +\n            'clear: both;' +\n            'min-height: 1px;' +\n            'min-width: 1px;' +\n            'outline: 0;' +\n            'overflow: hidden;' +\n            'position: relative;' +\n            'resize: both;' +\n            'z-index: 2;'\n    );\n\n    function on_keyboard_event_closure(name) {\n        return function (event) {\n            return fig.key_event(event, name);\n        };\n    }\n\n    canvas_div.addEventListener(\n        'keydown',\n        on_keyboard_event_closure('key_press')\n    );\n    canvas_div.addEventListener(\n        'keyup',\n        on_keyboard_event_closure('key_release')\n    );\n\n    this._canvas_extra_style(canvas_div);\n    this.root.appendChild(canvas_div);\n\n    var canvas = (this.canvas = document.createElement('canvas'));\n    canvas.classList.add('mpl-canvas');\n    canvas.setAttribute(\n        'style',\n        'box-sizing: content-box;' +\n            'pointer-events: none;' +\n            'position: relative;' +\n            'z-index: 0;'\n    );\n\n    this.context = canvas.getContext('2d');\n\n    var backingStore =\n        this.context.backingStorePixelRatio ||\n        this.context.webkitBackingStorePixelRatio ||\n        this.context.mozBackingStorePixelRatio ||\n        this.context.msBackingStorePixelRatio ||\n        this.context.oBackingStorePixelRatio ||\n        this.context.backingStorePixelRatio ||\n        1;\n\n    this.ratio = (window.devicePixelRatio || 1) / backingStore;\n\n    var rubberband_canvas = (this.rubberband_canvas = document.createElement(\n        'canvas'\n    ));\n    rubberband_canvas.setAttribute(\n        'style',\n        'box-sizing: content-box;' +\n            'left: 0;' +\n            'pointer-events: none;' +\n            'position: absolute;' +\n            'top: 0;' +\n            'z-index: 1;'\n    );\n\n    // Apply a ponyfill if ResizeObserver is not implemented by browser.\n    if (this.ResizeObserver === undefined) {\n        if (window.ResizeObserver !== undefined) {\n            this.ResizeObserver = window.ResizeObserver;\n        } else {\n            var obs = _JSXTOOLS_RESIZE_OBSERVER({});\n            this.ResizeObserver = obs.ResizeObserver;\n        }\n    }\n\n    this.resizeObserverInstance = new this.ResizeObserver(function (entries) {\n        // There's no need to resize if the WebSocket is not connected:\n        // - If it is still connecting, then we will get an initial resize from\n        //   Python once it connects.\n        // - If it has disconnected, then resizing will clear the canvas and\n        //   never get anything back to refill it, so better to not resize and\n        //   keep something visible.\n        if (fig.ws.readyState != 1) {\n            return;\n        }\n        var nentries = entries.length;\n        for (var i = 0; i < nentries; i++) {\n            var entry = entries[i];\n            var width, height;\n            if (entry.contentBoxSize) {\n                if (entry.contentBoxSize instanceof Array) {\n                    // Chrome 84 implements new version of spec.\n                    width = entry.contentBoxSize[0].inlineSize;\n                    height = entry.contentBoxSize[0].blockSize;\n                } else {\n                    // Firefox implements old version of spec.\n                    width = entry.contentBoxSize.inlineSize;\n                    height = entry.contentBoxSize.blockSize;\n                }\n            } else {\n                // Chrome <84 implements even older version of spec.\n                width = entry.contentRect.width;\n                height = entry.contentRect.height;\n            }\n\n            // Keep the size of the canvas and rubber band canvas in sync with\n            // the canvas container.\n            if (entry.devicePixelContentBoxSize) {\n                // Chrome 84 implements new version of spec.\n                canvas.setAttribute(\n                    'width',\n                    entry.devicePixelContentBoxSize[0].inlineSize\n                );\n                canvas.setAttribute(\n                    'height',\n                    entry.devicePixelContentBoxSize[0].blockSize\n                );\n            } else {\n                canvas.setAttribute('width', width * fig.ratio);\n                canvas.setAttribute('height', height * fig.ratio);\n            }\n            /* This rescales the canvas back to display pixels, so that it\n             * appears correct on HiDPI screens. */\n            canvas.style.width = width + 'px';\n            canvas.style.height = height + 'px';\n\n            rubberband_canvas.setAttribute('width', width);\n            rubberband_canvas.setAttribute('height', height);\n\n            // And update the size in Python. We ignore the initial 0/0 size\n            // that occurs as the element is placed into the DOM, which should\n            // otherwise not happen due to the minimum size styling.\n            if (width != 0 && height != 0) {\n                fig.request_resize(width, height);\n            }\n        }\n    });\n    this.resizeObserverInstance.observe(canvas_div);\n\n    function on_mouse_event_closure(name) {\n        /* User Agent sniffing is bad, but WebKit is busted:\n         * https://bugs.webkit.org/show_bug.cgi?id=144526\n         * https://bugs.webkit.org/show_bug.cgi?id=181818\n         * The worst that happens here is that they get an extra browser\n         * selection when dragging, if this check fails to catch them.\n         */\n        var UA = navigator.userAgent;\n        var isWebKit = /AppleWebKit/.test(UA) && !/Chrome/.test(UA);\n        if(isWebKit) {\n            return function (event) {\n                /* This prevents the web browser from automatically changing to\n                 * the text insertion cursor when the button is pressed. We\n                 * want to control all of the cursor setting manually through\n                 * the 'cursor' event from matplotlib */\n                event.preventDefault()\n                return fig.mouse_event(event, name);\n            };\n        } else {\n            return function (event) {\n                return fig.mouse_event(event, name);\n            };\n        }\n    }\n\n    canvas_div.addEventListener(\n        'mousedown',\n        on_mouse_event_closure('button_press')\n    );\n    canvas_div.addEventListener(\n        'mouseup',\n        on_mouse_event_closure('button_release')\n    );\n    canvas_div.addEventListener(\n        'dblclick',\n        on_mouse_event_closure('dblclick')\n    );\n    // Throttle sequential mouse events to 1 every 20ms.\n    canvas_div.addEventListener(\n        'mousemove',\n        on_mouse_event_closure('motion_notify')\n    );\n\n    canvas_div.addEventListener(\n        'mouseenter',\n        on_mouse_event_closure('figure_enter')\n    );\n    canvas_div.addEventListener(\n        'mouseleave',\n        on_mouse_event_closure('figure_leave')\n    );\n\n    canvas_div.addEventListener('wheel', function (event) {\n        if (event.deltaY < 0) {\n            event.step = 1;\n        } else {\n            event.step = -1;\n        }\n        on_mouse_event_closure('scroll')(event);\n    });\n\n    canvas_div.appendChild(canvas);\n    canvas_div.appendChild(rubberband_canvas);\n\n    this.rubberband_context = rubberband_canvas.getContext('2d');\n    this.rubberband_context.strokeStyle = '#000000';\n\n    this._resize_canvas = function (width, height, forward) {\n        if (forward) {\n            canvas_div.style.width = width + 'px';\n            canvas_div.style.height = height + 'px';\n        }\n    };\n\n    // Disable right mouse context menu.\n    canvas_div.addEventListener('contextmenu', function (_e) {\n        event.preventDefault();\n        return false;\n    });\n\n    function set_focus() {\n        canvas.focus();\n        canvas_div.focus();\n    }\n\n    window.setTimeout(set_focus, 100);\n};\n\nmpl.figure.prototype._init_toolbar = function () {\n    var fig = this;\n\n    var toolbar = document.createElement('div');\n    toolbar.classList = 'mpl-toolbar';\n    this.root.appendChild(toolbar);\n\n    function on_click_closure(name) {\n        return function (_event) {\n            return fig.toolbar_button_onclick(name);\n        };\n    }\n\n    function on_mouseover_closure(tooltip) {\n        return function (event) {\n            if (!event.currentTarget.disabled) {\n                return fig.toolbar_button_onmouseover(tooltip);\n            }\n        };\n    }\n\n    fig.buttons = {};\n    var buttonGroup = document.createElement('div');\n    buttonGroup.classList = 'mpl-button-group';\n    for (var toolbar_ind in mpl.toolbar_items) {\n        var name = mpl.toolbar_items[toolbar_ind][0];\n        var tooltip = mpl.toolbar_items[toolbar_ind][1];\n        var image = mpl.toolbar_items[toolbar_ind][2];\n        var method_name = mpl.toolbar_items[toolbar_ind][3];\n\n        if (!name) {\n            /* Instead of a spacer, we start a new button group. */\n            if (buttonGroup.hasChildNodes()) {\n                toolbar.appendChild(buttonGroup);\n            }\n            buttonGroup = document.createElement('div');\n            buttonGroup.classList = 'mpl-button-group';\n            continue;\n        }\n\n        var button = (fig.buttons[name] = document.createElement('button'));\n        button.classList = 'mpl-widget';\n        button.setAttribute('role', 'button');\n        button.setAttribute('aria-disabled', 'false');\n        button.addEventListener('click', on_click_closure(method_name));\n        button.addEventListener('mouseover', on_mouseover_closure(tooltip));\n\n        var icon_img = document.createElement('img');\n        icon_img.src = '_images/' + image + '.png';\n        icon_img.srcset = '_images/' + image + '_large.png 2x';\n        icon_img.alt = tooltip;\n        button.appendChild(icon_img);\n\n        buttonGroup.appendChild(button);\n    }\n\n    if (buttonGroup.hasChildNodes()) {\n        toolbar.appendChild(buttonGroup);\n    }\n\n    var fmt_picker = document.createElement('select');\n    fmt_picker.classList = 'mpl-widget';\n    toolbar.appendChild(fmt_picker);\n    this.format_dropdown = fmt_picker;\n\n    for (var ind in mpl.extensions) {\n        var fmt = mpl.extensions[ind];\n        var option = document.createElement('option');\n        option.selected = fmt === mpl.default_extension;\n        option.innerHTML = fmt;\n        fmt_picker.appendChild(option);\n    }\n\n    var status_bar = document.createElement('span');\n    status_bar.classList = 'mpl-message';\n    toolbar.appendChild(status_bar);\n    this.message = status_bar;\n};\n\nmpl.figure.prototype.request_resize = function (x_pixels, y_pixels) {\n    // Request matplotlib to resize the figure. Matplotlib will then trigger a resize in the client,\n    // which will in turn request a refresh of the image.\n    this.send_message('resize', { width: x_pixels, height: y_pixels });\n};\n\nmpl.figure.prototype.send_message = function (type, properties) {\n    properties['type'] = type;\n    properties['figure_id'] = this.id;\n    this.ws.send(JSON.stringify(properties));\n};\n\nmpl.figure.prototype.send_draw_message = function () {\n    if (!this.waiting) {\n        this.waiting = true;\n        this.ws.send(JSON.stringify({ type: 'draw', figure_id: this.id }));\n    }\n};\n\nmpl.figure.prototype.handle_save = function (fig, _msg) {\n    var format_dropdown = fig.format_dropdown;\n    var format = format_dropdown.options[format_dropdown.selectedIndex].value;\n    fig.ondownload(fig, format);\n};\n\nmpl.figure.prototype.handle_resize = function (fig, msg) {\n    var size = msg['size'];\n    if (size[0] !== fig.canvas.width || size[1] !== fig.canvas.height) {\n        fig._resize_canvas(size[0], size[1], msg['forward']);\n        fig.send_message('refresh', {});\n    }\n};\n\nmpl.figure.prototype.handle_rubberband = function (fig, msg) {\n    var x0 = msg['x0'] / fig.ratio;\n    var y0 = (fig.canvas.height - msg['y0']) / fig.ratio;\n    var x1 = msg['x1'] / fig.ratio;\n    var y1 = (fig.canvas.height - msg['y1']) / fig.ratio;\n    x0 = Math.floor(x0) + 0.5;\n    y0 = Math.floor(y0) + 0.5;\n    x1 = Math.floor(x1) + 0.5;\n    y1 = Math.floor(y1) + 0.5;\n    var min_x = Math.min(x0, x1);\n    var min_y = Math.min(y0, y1);\n    var width = Math.abs(x1 - x0);\n    var height = Math.abs(y1 - y0);\n\n    fig.rubberband_context.clearRect(\n        0,\n        0,\n        fig.canvas.width / fig.ratio,\n        fig.canvas.height / fig.ratio\n    );\n\n    fig.rubberband_context.strokeRect(min_x, min_y, width, height);\n};\n\nmpl.figure.prototype.handle_figure_label = function (fig, msg) {\n    // Updates the figure title.\n    fig.header.textContent = msg['label'];\n};\n\nmpl.figure.prototype.handle_cursor = function (fig, msg) {\n    fig.canvas_div.style.cursor = msg['cursor'];\n};\n\nmpl.figure.prototype.handle_message = function (fig, msg) {\n    fig.message.textContent = msg['message'];\n};\n\nmpl.figure.prototype.handle_draw = function (fig, _msg) {\n    // Request the server to send over a new figure.\n    fig.send_draw_message();\n};\n\nmpl.figure.prototype.handle_image_mode = function (fig, msg) {\n    fig.image_mode = msg['mode'];\n};\n\nmpl.figure.prototype.handle_history_buttons = function (fig, msg) {\n    for (var key in msg) {\n        if (!(key in fig.buttons)) {\n            continue;\n        }\n        fig.buttons[key].disabled = !msg[key];\n        fig.buttons[key].setAttribute('aria-disabled', !msg[key]);\n    }\n};\n\nmpl.figure.prototype.handle_navigate_mode = function (fig, msg) {\n    if (msg['mode'] === 'PAN') {\n        fig.buttons['Pan'].classList.add('active');\n        fig.buttons['Zoom'].classList.remove('active');\n    } else if (msg['mode'] === 'ZOOM') {\n        fig.buttons['Pan'].classList.remove('active');\n        fig.buttons['Zoom'].classList.add('active');\n    } else {\n        fig.buttons['Pan'].classList.remove('active');\n        fig.buttons['Zoom'].classList.remove('active');\n    }\n};\n\nmpl.figure.prototype.updated_canvas_event = function () {\n    // Called whenever the canvas gets updated.\n    this.send_message('ack', {});\n};\n\n// A function to construct a web socket function for onmessage handling.\n// Called in the figure constructor.\nmpl.figure.prototype._make_on_message_function = function (fig) {\n    return function socket_on_message(evt) {\n        if (evt.data instanceof Blob) {\n            var img = evt.data;\n            if (img.type !== 'image/png') {\n                /* FIXME: We get \"Resource interpreted as Image but\n                 * transferred with MIME type text/plain:\" errors on\n                 * Chrome.  But how to set the MIME type?  It doesn't seem\n                 * to be part of the websocket stream */\n                img.type = 'image/png';\n            }\n\n            /* Free the memory for the previous frames */\n            if (fig.imageObj.src) {\n                (window.URL || window.webkitURL).revokeObjectURL(\n                    fig.imageObj.src\n                );\n            }\n\n            fig.imageObj.src = (window.URL || window.webkitURL).createObjectURL(\n                img\n            );\n            fig.updated_canvas_event();\n            fig.waiting = false;\n            return;\n        } else if (\n            typeof evt.data === 'string' &&\n            evt.data.slice(0, 21) === 'data:image/png;base64'\n        ) {\n            fig.imageObj.src = evt.data;\n            fig.updated_canvas_event();\n            fig.waiting = false;\n            return;\n        }\n\n        var msg = JSON.parse(evt.data);\n        var msg_type = msg['type'];\n\n        // Call the  \"handle_{type}\" callback, which takes\n        // the figure and JSON message as its only arguments.\n        try {\n            var callback = fig['handle_' + msg_type];\n        } catch (e) {\n            console.log(\n                \"No handler for the '\" + msg_type + \"' message type: \",\n                msg\n            );\n            return;\n        }\n\n        if (callback) {\n            try {\n                // console.log(\"Handling '\" + msg_type + \"' message: \", msg);\n                callback(fig, msg);\n            } catch (e) {\n                console.log(\n                    \"Exception inside the 'handler_\" + msg_type + \"' callback:\",\n                    e,\n                    e.stack,\n                    msg\n                );\n            }\n        }\n    };\n};\n\nfunction getModifiers(event) {\n    var mods = [];\n    if (event.ctrlKey) {\n        mods.push('ctrl');\n    }\n    if (event.altKey) {\n        mods.push('alt');\n    }\n    if (event.shiftKey) {\n        mods.push('shift');\n    }\n    if (event.metaKey) {\n        mods.push('meta');\n    }\n    return mods;\n}\n\n/*\n * return a copy of an object with only non-object keys\n * we need this to avoid circular references\n * https://stackoverflow.com/a/24161582/3208463\n */\nfunction simpleKeys(original) {\n    return Object.keys(original).reduce(function (obj, key) {\n        if (typeof original[key] !== 'object') {\n            obj[key] = original[key];\n        }\n        return obj;\n    }, {});\n}\n\nmpl.figure.prototype.mouse_event = function (event, name) {\n    if (name === 'button_press') {\n        this.canvas.focus();\n        this.canvas_div.focus();\n    }\n\n    // from https://stackoverflow.com/q/1114465\n    var boundingRect = this.canvas.getBoundingClientRect();\n    var x = (event.clientX - boundingRect.left) * this.ratio;\n    var y = (event.clientY - boundingRect.top) * this.ratio;\n\n    this.send_message(name, {\n        x: x,\n        y: y,\n        button: event.button,\n        step: event.step,\n        modifiers: getModifiers(event),\n        guiEvent: simpleKeys(event),\n    });\n\n    return false;\n};\n\nmpl.figure.prototype._key_event_extra = function (_event, _name) {\n    // Handle any extra behaviour associated with a key event\n};\n\nmpl.figure.prototype.key_event = function (event, name) {\n    // Prevent repeat events\n    if (name === 'key_press') {\n        if (event.key === this._key) {\n            return;\n        } else {\n            this._key = event.key;\n        }\n    }\n    if (name === 'key_release') {\n        this._key = null;\n    }\n\n    var value = '';\n    if (event.ctrlKey && event.key !== 'Control') {\n        value += 'ctrl+';\n    }\n    else if (event.altKey && event.key !== 'Alt') {\n        value += 'alt+';\n    }\n    else if (event.shiftKey && event.key !== 'Shift') {\n        value += 'shift+';\n    }\n\n    value += 'k' + event.key;\n\n    this._key_event_extra(event, name);\n\n    this.send_message(name, { key: value, guiEvent: simpleKeys(event) });\n    return false;\n};\n\nmpl.figure.prototype.toolbar_button_onclick = function (name) {\n    if (name === 'download') {\n        this.handle_save(this, null);\n    } else {\n        this.send_message('toolbar_button', { name: name });\n    }\n};\n\nmpl.figure.prototype.toolbar_button_onmouseover = function (tooltip) {\n    this.message.textContent = tooltip;\n};\n\n///////////////// REMAINING CONTENT GENERATED BY embed_js.py /////////////////\n// prettier-ignore\nvar _JSXTOOLS_RESIZE_OBSERVER=function(A){var t,i=new WeakMap,n=new WeakMap,a=new WeakMap,r=new WeakMap,o=new Set;function s(e){if(!(this instanceof s))throw new TypeError(\"Constructor requires 'new' operator\");i.set(this,e)}function h(){throw new TypeError(\"Function is not a constructor\")}function c(e,t,i,n){e=0 in arguments?Number(arguments[0]):0,t=1 in arguments?Number(arguments[1]):0,i=2 in arguments?Number(arguments[2]):0,n=3 in arguments?Number(arguments[3]):0,this.right=(this.x=this.left=e)+(this.width=i),this.bottom=(this.y=this.top=t)+(this.height=n),Object.freeze(this)}function d(){t=requestAnimationFrame(d);var s=new WeakMap,p=new Set;o.forEach((function(t){r.get(t).forEach((function(i){var r=t instanceof window.SVGElement,o=a.get(t),d=r?0:parseFloat(o.paddingTop),f=r?0:parseFloat(o.paddingRight),l=r?0:parseFloat(o.paddingBottom),u=r?0:parseFloat(o.paddingLeft),g=r?0:parseFloat(o.borderTopWidth),m=r?0:parseFloat(o.borderRightWidth),w=r?0:parseFloat(o.borderBottomWidth),b=u+f,F=d+l,v=(r?0:parseFloat(o.borderLeftWidth))+m,W=g+w,y=r?0:t.offsetHeight-W-t.clientHeight,E=r?0:t.offsetWidth-v-t.clientWidth,R=b+v,z=F+W,M=r?t.width:parseFloat(o.width)-R-E,O=r?t.height:parseFloat(o.height)-z-y;if(n.has(t)){var k=n.get(t);if(k[0]===M&&k[1]===O)return}n.set(t,[M,O]);var S=Object.create(h.prototype);S.target=t,S.contentRect=new c(u,d,M,O),s.has(i)||(s.set(i,[]),p.add(i)),s.get(i).push(S)}))})),p.forEach((function(e){i.get(e).call(e,s.get(e),e)}))}return s.prototype.observe=function(i){if(i instanceof window.Element){r.has(i)||(r.set(i,new Set),o.add(i),a.set(i,window.getComputedStyle(i)));var n=r.get(i);n.has(this)||n.add(this),cancelAnimationFrame(t),t=requestAnimationFrame(d)}},s.prototype.unobserve=function(i){if(i instanceof window.Element&&r.has(i)){var n=r.get(i);n.has(this)&&(n.delete(this),n.size||(r.delete(i),o.delete(i))),n.size||r.delete(i),o.size||cancelAnimationFrame(t)}},A.DOMRectReadOnly=c,A.ResizeObserver=s,A.ResizeObserverEntry=h,A}; // eslint-disable-line\nmpl.toolbar_items = [[\"Home\", \"Reset original view\", \"fa fa-home\", \"home\"], [\"Back\", \"Back to previous view\", \"fa fa-arrow-left\", \"back\"], [\"Forward\", \"Forward to next view\", \"fa fa-arrow-right\", \"forward\"], [\"\", \"\", \"\", \"\"], [\"Pan\", \"Left button pans, Right button zooms\\nx/y fixes axis, CTRL fixes aspect\", \"fa fa-arrows\", \"pan\"], [\"Zoom\", \"Zoom to rectangle\\nx/y fixes axis\", \"fa fa-square-o\", \"zoom\"], [\"\", \"\", \"\", \"\"], [\"Download\", \"Download plot\", \"fa fa-floppy-o\", \"download\"]];\n\nmpl.extensions = [\"eps\", \"jpeg\", \"pgf\", \"pdf\", \"png\", \"ps\", \"raw\", \"svg\", \"tif\", \"webp\"];\n\nmpl.default_extension = \"png\";/* global mpl */\n\nvar comm_websocket_adapter = function (comm) {\n    // Create a \"websocket\"-like object which calls the given IPython comm\n    // object with the appropriate methods. Currently this is a non binary\n    // socket, so there is still some room for performance tuning.\n    var ws = {};\n\n    ws.binaryType = comm.kernel.ws.binaryType;\n    ws.readyState = comm.kernel.ws.readyState;\n    function updateReadyState(_event) {\n        if (comm.kernel.ws) {\n            ws.readyState = comm.kernel.ws.readyState;\n        } else {\n            ws.readyState = 3; // Closed state.\n        }\n    }\n    comm.kernel.ws.addEventListener('open', updateReadyState);\n    comm.kernel.ws.addEventListener('close', updateReadyState);\n    comm.kernel.ws.addEventListener('error', updateReadyState);\n\n    ws.close = function () {\n        comm.close();\n    };\n    ws.send = function (m) {\n        //console.log('sending', m);\n        comm.send(m);\n    };\n    // Register the callback with on_msg.\n    comm.on_msg(function (msg) {\n        //console.log('receiving', msg['content']['data'], msg);\n        var data = msg['content']['data'];\n        if (data['blob'] !== undefined) {\n            data = {\n                data: new Blob(msg['buffers'], { type: data['blob'] }),\n            };\n        }\n        // Pass the mpl event to the overridden (by mpl) onmessage function.\n        ws.onmessage(data);\n    });\n    return ws;\n};\n\nmpl.mpl_figure_comm = function (comm, msg) {\n    // This is the function which gets called when the mpl process\n    // starts-up an IPython Comm through the \"matplotlib\" channel.\n\n    var id = msg.content.data.id;\n    // Get hold of the div created by the display call when the Comm\n    // socket was opened in Python.\n    var element = document.getElementById(id);\n    var ws_proxy = comm_websocket_adapter(comm);\n\n    function ondownload(figure, _format) {\n        window.open(figure.canvas.toDataURL());\n    }\n\n    var fig = new mpl.figure(id, ws_proxy, ondownload, element);\n\n    // Call onopen now - mpl needs it, as it is assuming we've passed it a real\n    // web socket which is closed, not our websocket->open comm proxy.\n    ws_proxy.onopen();\n\n    fig.parent_element = element;\n    fig.cell_info = mpl.find_output_cell(\"<div id='\" + id + \"'></div>\");\n    if (!fig.cell_info) {\n        console.error('Failed to find cell for figure', id, fig);\n        return;\n    }\n    fig.cell_info[0].output_area.element.on(\n        'cleared',\n        { fig: fig },\n        fig._remove_fig_handler\n    );\n};\n\nmpl.figure.prototype.handle_close = function (fig, msg) {\n    var width = fig.canvas.width / fig.ratio;\n    fig.cell_info[0].output_area.element.off(\n        'cleared',\n        fig._remove_fig_handler\n    );\n    fig.resizeObserverInstance.unobserve(fig.canvas_div);\n\n    // Update the output cell to use the data from the current canvas.\n    fig.push_to_output();\n    var dataURL = fig.canvas.toDataURL();\n    // Re-enable the keyboard manager in IPython - without this line, in FF,\n    // the notebook keyboard shortcuts fail.\n    IPython.keyboard_manager.enable();\n    fig.parent_element.innerHTML =\n        '<img src=\"' + dataURL + '\" width=\"' + width + '\">';\n    fig.close_ws(fig, msg);\n};\n\nmpl.figure.prototype.close_ws = function (fig, msg) {\n    fig.send_message('closing', msg);\n    // fig.ws.close()\n};\n\nmpl.figure.prototype.push_to_output = function (_remove_interactive) {\n    // Turn the data on the canvas into data in the output cell.\n    var width = this.canvas.width / this.ratio;\n    var dataURL = this.canvas.toDataURL();\n    this.cell_info[1]['text/html'] =\n        '<img src=\"' + dataURL + '\" width=\"' + width + '\">';\n};\n\nmpl.figure.prototype.updated_canvas_event = function () {\n    // Tell IPython that the notebook contents must change.\n    IPython.notebook.set_dirty(true);\n    this.send_message('ack', {});\n    var fig = this;\n    // Wait a second, then push the new image to the DOM so\n    // that it is saved nicely (might be nice to debounce this).\n    setTimeout(function () {\n        fig.push_to_output();\n    }, 1000);\n};\n\nmpl.figure.prototype._init_toolbar = function () {\n    var fig = this;\n\n    var toolbar = document.createElement('div');\n    toolbar.classList = 'btn-toolbar';\n    this.root.appendChild(toolbar);\n\n    function on_click_closure(name) {\n        return function (_event) {\n            return fig.toolbar_button_onclick(name);\n        };\n    }\n\n    function on_mouseover_closure(tooltip) {\n        return function (event) {\n            if (!event.currentTarget.disabled) {\n                return fig.toolbar_button_onmouseover(tooltip);\n            }\n        };\n    }\n\n    fig.buttons = {};\n    var buttonGroup = document.createElement('div');\n    buttonGroup.classList = 'btn-group';\n    var button;\n    for (var toolbar_ind in mpl.toolbar_items) {\n        var name = mpl.toolbar_items[toolbar_ind][0];\n        var tooltip = mpl.toolbar_items[toolbar_ind][1];\n        var image = mpl.toolbar_items[toolbar_ind][2];\n        var method_name = mpl.toolbar_items[toolbar_ind][3];\n\n        if (!name) {\n            /* Instead of a spacer, we start a new button group. */\n            if (buttonGroup.hasChildNodes()) {\n                toolbar.appendChild(buttonGroup);\n            }\n            buttonGroup = document.createElement('div');\n            buttonGroup.classList = 'btn-group';\n            continue;\n        }\n\n        button = fig.buttons[name] = document.createElement('button');\n        button.classList = 'btn btn-default';\n        button.href = '#';\n        button.title = name;\n        button.innerHTML = '<i class=\"fa ' + image + ' fa-lg\"></i>';\n        button.addEventListener('click', on_click_closure(method_name));\n        button.addEventListener('mouseover', on_mouseover_closure(tooltip));\n        buttonGroup.appendChild(button);\n    }\n\n    if (buttonGroup.hasChildNodes()) {\n        toolbar.appendChild(buttonGroup);\n    }\n\n    // Add the status bar.\n    var status_bar = document.createElement('span');\n    status_bar.classList = 'mpl-message pull-right';\n    toolbar.appendChild(status_bar);\n    this.message = status_bar;\n\n    // Add the close button to the window.\n    var buttongrp = document.createElement('div');\n    buttongrp.classList = 'btn-group inline pull-right';\n    button = document.createElement('button');\n    button.classList = 'btn btn-mini btn-primary';\n    button.href = '#';\n    button.title = 'Stop Interaction';\n    button.innerHTML = '<i class=\"fa fa-power-off icon-remove icon-large\"></i>';\n    button.addEventListener('click', function (_evt) {\n        fig.handle_close(fig, {});\n    });\n    button.addEventListener(\n        'mouseover',\n        on_mouseover_closure('Stop Interaction')\n    );\n    buttongrp.appendChild(button);\n    var titlebar = this.root.querySelector('.ui-dialog-titlebar');\n    titlebar.insertBefore(buttongrp, titlebar.firstChild);\n};\n\nmpl.figure.prototype._remove_fig_handler = function (event) {\n    var fig = event.data.fig;\n    if (event.target !== this) {\n        // Ignore bubbled events from children.\n        return;\n    }\n    fig.close_ws(fig, {});\n};\n\nmpl.figure.prototype._root_extra_style = function (el) {\n    el.style.boxSizing = 'content-box'; // override notebook setting of border-box.\n};\n\nmpl.figure.prototype._canvas_extra_style = function (el) {\n    // this is important to make the div 'focusable\n    el.setAttribute('tabindex', 0);\n    // reach out to IPython and tell the keyboard manager to turn it's self\n    // off when our div gets focus\n\n    // location in version 3\n    if (IPython.notebook.keyboard_manager) {\n        IPython.notebook.keyboard_manager.register_events(el);\n    } else {\n        // location in version 2\n        IPython.keyboard_manager.register_events(el);\n    }\n};\n\nmpl.figure.prototype._key_event_extra = function (event, _name) {\n    // Check for shift+enter\n    if (event.shiftKey && event.which === 13) {\n        this.canvas_div.blur();\n        // select the cell after this one\n        var index = IPython.notebook.find_cell_index(this.cell_info[0]);\n        IPython.notebook.select(index + 1);\n    }\n};\n\nmpl.figure.prototype.handle_save = function (fig, _msg) {\n    fig.ondownload(fig, null);\n};\n\nmpl.find_output_cell = function (html_output) {\n    // Return the cell and output element which can be found *uniquely* in the notebook.\n    // Note - this is a bit hacky, but it is done because the \"notebook_saving.Notebook\"\n    // IPython event is triggered only after the cells have been serialised, which for\n    // our purposes (turning an active figure into a static one), is too late.\n    var cells = IPython.notebook.get_cells();\n    var ncells = cells.length;\n    for (var i = 0; i < ncells; i++) {\n        var cell = cells[i];\n        if (cell.cell_type === 'code') {\n            for (var j = 0; j < cell.output_area.outputs.length; j++) {\n                var data = cell.output_area.outputs[j];\n                if (data.data) {\n                    // IPython >= 3 moved mimebundle to data attribute of output\n                    data = data.data;\n                }\n                if (data['text/html'] === html_output) {\n                    return [cell, data, j];\n                }\n            }\n        }\n    }\n};\n\n// Register the function which deals with the matplotlib target/channel.\n// The kernel may be null if the page has been refreshed.\nif (IPython.notebook.kernel !== null) {\n    IPython.notebook.kernel.comm_manager.register_target(\n        'matplotlib',\n        mpl.mpl_figure_comm\n    );\n}\n",
      "text/plain": [
       "<IPython.core.display.Javascript object>"
      ]
     },
     "metadata": {},
     "output_type": "display_data"
    },
    {
     "data": {
      "text/html": [
       "<div id='b7957eb6-c027-4783-9935-09c0e3e6361e'></div>"
      ],
      "text/plain": [
       "<IPython.core.display.HTML object>"
      ]
     },
     "metadata": {},
     "output_type": "display_data"
    }
   ],
   "source": [
    "# Function to convert latitude and longitude to Mercator projection\n",
    "def mercator_projection(lat, lon):\n",
    "    R = 6378137  # Radius of the Earth in meters\n",
    "    x = R * np.radians(lon)\n",
    "    y = R * np.log(np.tan(np.pi / 4 + np.radians(lat) / 2))\n",
    "    return x, y\n",
    "\n",
    "\n",
    "\n",
    "# Read the nodes data (replace with your CSV path)\n",
    "nodes = pd.read_csv('nodes.csv')\n",
    "\n",
    "# Apply Mercator projection to convert lat/lon to x/y coordinates\n",
    "nodes['scaled_x'], nodes['scaled_y'] = zip(*nodes.apply(lambda row: mercator_projection(row['x'], row['y']), axis=1))\n",
    "\n",
    "\n",
    "# Save to a new CSV file, retaining the original data and adding projected coordinates\n",
    "nodes.to_csv('mercator_nodes.csv', index=False)\n",
    "\n",
    "# Read the edges data (replace with your CSV path)\n",
    "edges = pd.read_csv('edges.csv')\n",
    "\n",
    "# Create a graph using networkx\n",
    "G = nx.Graph()\n",
    "\n",
    "# Add nodes with positions (Mercator projected coordinates)\n",
    "for index, row in nodes.iterrows():\n",
    "    G.add_node(row['node_name'], pos=(row['scaled_x'], row['scaled_y']))\n",
    "\n",
    "# Add edges with time and cost (from the original CSV)\n",
    "for index, row in edges.iterrows():\n",
    "    G.add_edge(row['from_node'], row['to_node'], weight=row['cost'], time=row['time'])\n",
    "\n",
    "# Get positions for drawing the graph\n",
    "pos = nx.get_node_attributes(G, 'pos')\n",
    "\n",
    "# Draw the graph\n",
    "plt.figure(figsize=(15, 15))\n",
    "nx.draw(G, pos, with_labels=True, node_size=500, node_color='skyblue', font_size=10, font_weight='bold')\n",
    "\n",
    "# Draw edge labels with costs\n",
    "nx.draw_networkx_edge_labels(G, pos, edge_labels={(row['from_node'], row['to_node']): row['cost'] for _, row in edges.iterrows()})\n",
    "\n",
    "plt.title(\"Graph of Nodes with Mercator Projection Coordinates\")\n",
    "plt.show()\n"
   ]
  },
  {
   "cell_type": "markdown",
   "metadata": {},
   "source": [
    "## TAKING THE INPUT"
   ]
  },
  {
   "cell_type": "code",
   "execution_count": 18,
   "metadata": {},
   "outputs": [],
   "source": [
    "#%pip install ipywidgets "
   ]
  },
  {
   "cell_type": "code",
   "execution_count": 19,
   "metadata": {},
   "outputs": [
    {
     "data": {
      "application/vnd.jupyter.widget-view+json": {
       "model_id": "6e05e199834a416b8e68b3b01ef48ee8",
       "version_major": 2,
       "version_minor": 0
      },
      "text/plain": [
       "Dropdown(description='Start:', index=16, options=('Visakhapatnam', 'Lucknow', 'Nagpur', 'Indore', 'Patna', 'Ja…"
      ]
     },
     "metadata": {},
     "output_type": "display_data"
    },
    {
     "data": {
      "application/vnd.jupyter.widget-view+json": {
       "model_id": "d7a8f78e83df43edb7c42059a9527197",
       "version_major": 2,
       "version_minor": 0
      },
      "text/plain": [
       "Dropdown(description='Goal:', index=20, options=('Visakhapatnam', 'Lucknow', 'Nagpur', 'Indore', 'Patna', 'Jai…"
      ]
     },
     "metadata": {},
     "output_type": "display_data"
    },
    {
     "data": {
      "application/vnd.jupyter.widget-view+json": {
       "model_id": "982751def94f4089995c2e71ab8f8f54",
       "version_major": 2,
       "version_minor": 0
      },
      "text/plain": [
       "IntSlider(value=100, description='Time Window:', max=1000, min=1, step=10)"
      ]
     },
     "metadata": {},
     "output_type": "display_data"
    }
   ],
   "source": [
    "from IPython.display import display\n",
    "import ipywidgets as widgets\n",
    "\n",
    "# Load unique city names from file\n",
    "with open('unique_city_names.txt', 'r') as file:\n",
    "    unique_cities = [line.strip() for line in file]\n",
    "\n",
    "# Create dropdown widgets for start and goal cities\n",
    "start_dropdown = widgets.Dropdown(\n",
    "    options=unique_cities,\n",
    "    description='Start:',\n",
    "    value='Delhi'\n",
    ")\n",
    "\n",
    "goal_dropdown = widgets.Dropdown(\n",
    "    options=unique_cities,\n",
    "    description='Goal:',\n",
    "    value='Chennai'\n",
    ")\n",
    "\n",
    "# Create an integer slider for the time window\n",
    "time_window_slider = widgets.IntSlider(\n",
    "    value=100,\n",
    "    min=1,\n",
    "    max=1000,\n",
    "    step=10,\n",
    "    description='Time Window:'\n",
    ")\n",
    "\n",
    "# Display the widgets\n",
    "display(start_dropdown, goal_dropdown, time_window_slider)\n",
    "\n",
    "# Global variables to store the selected values\n",
    "selected_start = start_dropdown.value\n",
    "selected_goal = goal_dropdown.value\n",
    "selected_time_window = time_window_slider.value\n",
    "\n",
    "# Function to update the global variables when the widget value changes\n",
    "def update_start(change):\n",
    "    global selected_start\n",
    "    selected_start = change['new']\n",
    "\n",
    "def update_goal(change):\n",
    "    global selected_goal\n",
    "    selected_goal = change['new']\n",
    "\n",
    "def update_time_window(change):\n",
    "    global selected_time_window\n",
    "    selected_time_window = change['new']\n",
    "\n",
    "# Add observers to the widgets to update global variables dynamically\n",
    "start_dropdown.observe(update_start, names='value')\n",
    "goal_dropdown.observe(update_goal, names='value')\n",
    "time_window_slider.observe(update_time_window, names='value')\n",
    "\n",
    "# Now the values of selected_start, selected_goal, and selected_time_window\n",
    "# will be globally accessible and updated dynamically when the widgets are changed.\n"
   ]
  },
  {
   "cell_type": "code",
   "execution_count": 21,
   "metadata": {},
   "outputs": [
    {
     "name": "stdout",
     "output_type": "stream",
     "text": [
      "Start City: Delhi\n",
      "Goal City: Chennai\n",
      "Time Window: 561\n"
     ]
    }
   ],
   "source": [
    "print(f\"Start City: {selected_start}\")\n",
    "print(f\"Goal City: {selected_goal}\")\n",
    "print(f\"Time Window: {selected_time_window}\")\n"
   ]
  },
  {
   "cell_type": "markdown",
   "metadata": {},
   "source": [
    "## A* ALGORITHM"
   ]
  },
  {
   "cell_type": "code",
   "execution_count": 146,
   "metadata": {},
   "outputs": [],
   "source": [
    "def a_star_search_dynamic(start, goal, nodes, edges, transfers, time_window, current_conditions):\n",
    "    open_list = []\n",
    "    closed_list = set()\n",
    "    \n",
    "    start_node = Node(start, 0, manhattan_distance(nodes[start], nodes[goal]))\n",
    "    heapq.heappush(open_list, start_node)\n",
    "    \n",
    "    while open_list:\n",
    "        current_node = heapq.heappop(open_list)\n",
    "        \n",
    "        if current_node.name == goal:\n",
    "            path = []\n",
    "            while current_node:\n",
    "                path.append(current_node.name)\n",
    "                current_node = current_node.parent\n",
    "            return path[::-1]\n",
    "        \n",
    "        closed_list.add(current_node.name)\n",
    "        \n",
    "        if current_node.name not in edges:\n",
    "            continue\n",
    "        \n",
    "        for neighbor, base_cost, mode, travel_time in edges[current_node.name]:\n",
    "            if neighbor in closed_list:\n",
    "                continue\n",
    "            \n",
    "            adjusted_cost = adjust_costs_dynamic(current_node.name, neighbor, base_cost, current_conditions)\n",
    "            g_cost = current_node.g_cost + adjusted_cost\n",
    "            \n",
    "            if g_cost > time_window:\n",
    "                continue\n",
    "            \n",
    "            h_cost = manhattan_distance(nodes[neighbor], nodes[goal])\n",
    "            neighbor_node = Node(neighbor, g_cost, h_cost, current_node)\n",
    "            heapq.heappush(open_list, neighbor_node)\n",
    "    \n",
    "    return None"
   ]
  },
  {
   "cell_type": "code",
   "execution_count": 28,
   "metadata": {},
   "outputs": [],
   "source": [
    "def a_star_search_dynamic_print_path(start, goal, nodes, edges, transfers, time_window, current_conditions):\n",
    "    open_list = []\n",
    "    closed_list = set()\n",
    "    \n",
    "    try:\n",
    "        start_node = Node(start, 0, manhattan_distance(nodes[start], nodes[goal]))\n",
    "    except KeyError as e:\n",
    "        print(f\"Error: {e} not found in nodes dictionary\")\n",
    "        return None\n",
    "    \n",
    "    heapq.heappush(open_list, start_node)\n",
    "    \n",
    "    while open_list:\n",
    "        current_node = heapq.heappop(open_list)\n",
    "        \n",
    "        if current_node.name == goal:\n",
    "            path = []\n",
    "            total_cost = current_node.g_cost\n",
    "            while current_node:\n",
    "                path.append(current_node.name)\n",
    "                current_node = current_node.parent\n",
    "            print(f\"Path taken: {path[::-1]}\")\n",
    "            print(f\"Total path cost: {total_cost}\")\n",
    "            return path[::-1]\n",
    "        \n",
    "        closed_list.add(current_node.name)\n",
    "        \n",
    "        if current_node.name not in edges:\n",
    "            continue\n",
    "        \n",
    "        for neighbor, base_cost, mode, travel_time in edges[current_node.name]:\n",
    "            if neighbor in closed_list:\n",
    "                continue\n",
    "            \n",
    "            adjusted_cost = adjust_costs_dynamic(current_node.name, neighbor, base_cost, current_conditions)\n",
    "            g_cost = current_node.g_cost + adjusted_cost\n",
    "            \n",
    "            if g_cost > time_window:\n",
    "                continue\n",
    "            \n",
    "            h_cost = manhattan_distance(nodes[neighbor], nodes[goal])\n",
    "            neighbor_node = Node(neighbor, g_cost, h_cost, current_node)\n",
    "            heapq.heappush(open_list, neighbor_node)\n",
    "            \n",
    "            print(f\"Considering path from {current_node.name} to {neighbor} with cost {adjusted_cost} (mode: {mode})\")\n",
    "    \n",
    "    print(\"No path found\")\n",
    "    return None"
   ]
  },
  {
   "cell_type": "markdown",
   "metadata": {},
   "source": [
    "## RUN THE CODE"
   ]
  },
  {
   "cell_type": "code",
   "execution_count": 22,
   "metadata": {},
   "outputs": [],
   "source": [
    "# Load data from CSV files\n",
    "nodes = load_nodes('nodes.csv')\n",
    "edges = load_edges('edges.csv')\n",
    "dynamic_factors = load_dynamic_factors('dynamic_factors.csv')\n",
    "transfers = load_transfers('transfer.csv')"
   ]
  },
  {
   "cell_type": "code",
   "execution_count": 29,
   "metadata": {},
   "outputs": [
    {
     "name": "stdout",
     "output_type": "stream",
     "text": [
      "Considering path from Delhi to Mumbai with cost 143.00000000000003 (mode: highway)\n",
      "Considering path from Delhi to Kolkata with cost 114.4 (mode: railway)\n",
      "Considering path from Delhi to Chennai with cost 112.5 (mode: railway)\n",
      "Considering path from Delhi to Hyderabad with cost 113.39999999999999 (mode: highway)\n",
      "Considering path from Delhi to Jaipur with cost 39.45 (mode: highway)\n",
      "Considering path from Delhi to Chandigarh with cost 52.60000000000001 (mode: highway)\n",
      "Considering path from Delhi to Guwahati with cost 187.79999999999998 (mode: railway)\n",
      "Considering path from Delhi to Bangalore with cost 184.8 (mode: railway)\n",
      "Considering path from Delhi to Lucknow with cost 69.5 (mode: highway)\n",
      "Considering path from Delhi to Pune with cost 160.05 (mode: railway)\n",
      "Considering path from Delhi to Amritsar with cost 75.0 (mode: highway)\n",
      "Considering path from Delhi to Bhopal with cost 100.0 (mode: railway)\n",
      "Considering path from Delhi to Srinagar with cost 200.0 (mode: highway)\n",
      "Considering path from Jaipur to Ahmedabad with cost 69.5 (mode: highway)\n",
      "Considering path from Jaipur to Lucknow with cost 87.89999999999999 (mode: highway)\n",
      "Considering path from Chandigarh to Srinagar with cost 125.0 (mode: highway)\n",
      "Considering path from Lucknow to Patna with cost 52.60000000000001 (mode: highway)\n",
      "Considering path from Lucknow to Varanasi with cost 50.0 (mode: highway)\n",
      "Path taken: ['Delhi', 'Chennai']\n",
      "Total path cost: 112.5\n",
      "Optimal Path with Dynamic Factors: ['Delhi', 'Chennai']\n"
     ]
    }
   ],
   "source": [
    "# Run A* search with dynamic factors\n",
    "optimal_path = a_star_search_dynamic_print_path(selected_start, selected_goal, nodes, edges, transfers, selected_time_window, dynamic_factors)\n",
    "\n",
    "print(\"Optimal Path with Dynamic Factors:\", optimal_path)"
   ]
  },
  {
   "cell_type": "markdown",
   "metadata": {},
   "source": [
    "## UTILITY CODE"
   ]
  },
  {
   "cell_type": "code",
   "execution_count": 77,
   "metadata": {},
   "outputs": [],
   "source": [
    "#The following is a helper code the make all routes bidirectional\n",
    "import pandas as pd\n",
    "\n",
    "# Load the CSV data into a DataFrame\n",
    "df = pd.read_csv(\"edges.csv\")\n",
    "\n",
    "# Create a new DataFrame with reversed routes\n",
    "reversed_df = df.copy()\n",
    "reversed_df.columns = ['to_node', 'from_node', 'mode', 'cost', 'time']\n",
    "\n",
    "# Combine original and reversed dataframes\n",
    "combined_df = pd.concat([df, reversed_df], ignore_index=True)\n",
    "\n",
    "# Remove duplicate routes (if any)\n",
    "combined_df = combined_df.drop_duplicates()\n",
    "\n",
    "# Save the modified DataFrame to a new CSV file\n",
    "combined_df.to_csv(\"edges.csv\", index=False)"
   ]
  },
  {
   "cell_type": "markdown",
   "metadata": {},
   "source": [
    "## ANIMATION"
   ]
  },
  {
   "cell_type": "code",
   "execution_count": 60,
   "metadata": {},
   "outputs": [],
   "source": [
    "import math\n",
    "import matplotlib.pyplot as plt\n",
    "from matplotlib.animation import FuncAnimation\n",
    "from matplotlib.animation import PillowWriter\n",
    "import os"
   ]
  },
  {
   "cell_type": "code",
   "execution_count": 48,
   "metadata": {},
   "outputs": [
    {
     "name": "stdout",
     "output_type": "stream",
     "text": [
      "Requirement already satisfied: Pillow in c:\\python311\\lib\\site-packages (10.3.0)\n"
     ]
    },
    {
     "name": "stderr",
     "output_type": "stream",
     "text": [
      "\n",
      "[notice] A new release of pip available: 22.3 -> 24.2\n",
      "[notice] To update, run: python.exe -m pip install --upgrade pip\n"
     ]
    }
   ],
   "source": [
    "#!pip install Pillow"
   ]
  },
  {
   "cell_type": "code",
   "execution_count": 68,
   "metadata": {},
   "outputs": [],
   "source": [
    "import matplotlib.pyplot as plt\n",
    "import networkx as nx\n",
    "import os\n",
    "import heapq\n",
    "\n",
    "class Node:\n",
    "    def __init__(self, name, g_cost, h_cost, parent=None):\n",
    "        self.name = name\n",
    "        self.g_cost = g_cost  # cost from start node\n",
    "        self.h_cost = h_cost  # heuristic cost to goal node\n",
    "        self.parent = parent\n",
    "\n",
    "    def __lt__(self, other):\n",
    "        return (self.g_cost + self.h_cost) < (other.g_cost + other.h_cost)\n",
    "\n",
    "class AStarVisualizer:\n",
    "    def __init__(self, nodes, edges):\n",
    "        self.G = nx.Graph()\n",
    "        for node, coord in nodes.items():\n",
    "            self.G.add_node(node, pos=(coord['y'], coord['x']))\n",
    "        for node, neighbors in edges.items():\n",
    "            for neighbor, base_cost, mode, travel_time in neighbors:\n",
    "                self.G.add_edge(node, neighbor)\n",
    "        \n",
    "        self.pos = nx.get_node_attributes(self.G, 'pos')\n",
    "        self.step = 0\n",
    "        \n",
    "        # Create output directory if it doesn't exist\n",
    "        self.output_dir = \"astar_steps\"\n",
    "        os.makedirs(self.output_dir, exist_ok=True)\n",
    "\n",
    "    def visualize_step(self, current_path, considered_edge, current_node=None, current_cost=None, travel_time=None, mode=None):\n",
    "        self.step += 1\n",
    "        fig, ax = plt.subplots(figsize=(12, 8))\n",
    "        \n",
    "        # Draw all nodes and edges\n",
    "        nx.draw(self.G, self.pos, with_labels=True, node_size=500, node_color='skyblue', \n",
    "                font_size=10, font_weight='bold', ax=ax)\n",
    "        \n",
    "        # Draw the current path in green\n",
    "        if current_path:\n",
    "            path_edges = list(zip(current_path[:-1], current_path[1:]))\n",
    "            nx.draw_networkx_edges(self.G, self.pos, edgelist=path_edges, edge_color='green', width=2, ax=ax)\n",
    "        \n",
    "        # Draw the considered edge in red\n",
    "        if considered_edge:\n",
    "            nx.draw_networkx_edges(self.G, self.pos, edgelist=[considered_edge], edge_color='red', width=2, ax=ax)\n",
    "        \n",
    "        # Add text annotations\n",
    "        if current_node is not None:\n",
    "            ax.text(0.05, 0.95, f\"Current node: {current_node}\", transform=ax.transAxes, fontsize=12, verticalalignment='top')\n",
    "        \n",
    "        if current_cost is not None and travel_time is not None and mode is not None:\n",
    "            ax.text(0.05, 0.90, f\"Cost: {current_cost}, Time: {travel_time}, Mode: {mode}\", transform=ax.transAxes, fontsize=12, verticalalignment='top')\n",
    "        \n",
    "        if current_path:\n",
    "            ax.text(0.05, 0.85, f\"Current path: {' -> '.join(current_path)}\", transform=ax.transAxes, fontsize=12, verticalalignment='top')\n",
    "        \n",
    "        ax.set_title(f\"A* Search - Step {self.step}\")\n",
    "        \n",
    "        # Save the figure\n",
    "        plt.savefig(os.path.join(self.output_dir, f\"step_{self.step:03d}.png\"))\n",
    "        plt.close(fig)\n",
    "\n",
    "def a_star_search_dynamic_visualize(start, goal, nodes, edges, transfers, time_window, current_conditions):\n",
    "    open_list = []\n",
    "    closed_list = set()\n",
    "    \n",
    "    try:\n",
    "        start_node = Node(start, 0, manhattan_distance(nodes[start], nodes[goal]))\n",
    "    except KeyError as e:\n",
    "        print(f\"Error: {e} not found in nodes dictionary\")\n",
    "        return None\n",
    "    \n",
    "    heapq.heappush(open_list, start_node)\n",
    "    \n",
    "    visualizer = AStarVisualizer(nodes, edges)\n",
    "    visualizer.visualize_step([start], None)  # Initial state\n",
    "    \n",
    "    while open_list:\n",
    "        current_node = heapq.heappop(open_list)\n",
    "        \n",
    "        if current_node.name == goal:\n",
    "            path = []\n",
    "            total_cost = current_node.g_cost\n",
    "            while current_node:\n",
    "                path.append(current_node.name)\n",
    "                current_node = current_node.parent\n",
    "            path = path[::-1]\n",
    "            print(f\"Path taken: {path}\")\n",
    "            print(f\"Total path cost: {total_cost}\")\n",
    "            \n",
    "            visualizer.visualize_step(path, None)  # Final path\n",
    "            return path\n",
    "        \n",
    "        closed_list.add(current_node.name)\n",
    "        \n",
    "        if current_node.name not in edges:\n",
    "            continue\n",
    "        \n",
    "        current_path = []\n",
    "        node = current_node\n",
    "        while node:\n",
    "            current_path.append(node.name)\n",
    "            node = node.parent\n",
    "        current_path = current_path[::-1]\n",
    "        \n",
    "        for neighbor, base_cost, mode, travel_time in edges[current_node.name]:\n",
    "            if neighbor in closed_list:\n",
    "                continue\n",
    "            \n",
    "            adjusted_cost = adjust_costs_dynamic(current_node.name, neighbor, base_cost, current_conditions)\n",
    "            g_cost = current_node.g_cost + adjusted_cost\n",
    "            \n",
    "            if g_cost > time_window:\n",
    "                continue\n",
    "            \n",
    "            h_cost = manhattan_distance(nodes[neighbor], nodes[goal])\n",
    "            neighbor_node = Node(neighbor, g_cost, h_cost, current_node)\n",
    "            \n",
    "            if neighbor_node not in open_list:\n",
    "                heapq.heappush(open_list, neighbor_node)\n",
    "                print(f\"Considering path from {current_node.name} to {neighbor} with cost {adjusted_cost} (mode: {mode})\")\n",
    "                visualizer.visualize_step(current_path, (current_node.name, neighbor), current_node.name, g_cost, travel_time, mode)\n",
    "    \n",
    "    print(\"No path found\")\n",
    "    return None\n",
    "\n",
    "# You would also need to define functions like `manhattan_distance` and `adjust_costs_dynamic` as used in the code\n"
   ]
  },
  {
   "cell_type": "code",
   "execution_count": 69,
   "metadata": {},
   "outputs": [
    {
     "name": "stdout",
     "output_type": "stream",
     "text": [
      "Considering path from Delhi to Mumbai with cost 50 (mode: highway)\n",
      "Considering path from Delhi to Kolkata with cost 40 (mode: railway)\n",
      "Considering path from Delhi to Chennai with cost 45 (mode: railway)\n",
      "Considering path from Delhi to Hyderabad with cost 35 (mode: highway)\n",
      "Considering path from Delhi to Jaipur with cost 15 (mode: highway)\n",
      "Considering path from Delhi to Chandigarh with cost 20 (mode: highway)\n",
      "Considering path from Delhi to Guwahati with cost 60 (mode: railway)\n",
      "Considering path from Delhi to Bangalore with cost 60 (mode: railway)\n",
      "Considering path from Delhi to Lucknow with cost 25 (mode: highway)\n",
      "Considering path from Delhi to Pune with cost 55 (mode: railway)\n",
      "Considering path from Delhi to Amritsar with cost 30 (mode: highway)\n",
      "Considering path from Delhi to Bhopal with cost 40 (mode: railway)\n",
      "Considering path from Delhi to Srinagar with cost 80 (mode: highway)\n",
      "Considering path from Jaipur to Ahmedabad with cost 25 (mode: highway)\n",
      "Considering path from Jaipur to Lucknow with cost 30 (mode: highway)\n",
      "Considering path from Lucknow to Patna with cost 20 (mode: highway)\n",
      "Considering path from Lucknow to Varanasi with cost 20 (mode: highway)\n",
      "Considering path from Hyderabad to Chennai with cost 25 (mode: highway)\n",
      "Considering path from Hyderabad to Bangalore with cost 20 (mode: highway)\n",
      "Considering path from Hyderabad to Nagpur with cost 30 (mode: highway)\n",
      "Considering path from Hyderabad to Guwahati with cost 70 (mode: railway)\n",
      "Considering path from Hyderabad to Pune with cost 20 (mode: highway)\n",
      "Considering path from Hyderabad to Bangalore with cost 25 (mode: railway)\n",
      "Considering path from Chandigarh to Srinagar with cost 50 (mode: highway)\n",
      "Path taken: ['Delhi', 'Chennai']\n",
      "Total path cost: 45\n",
      "Optimal Path with Dynamic Factors: ['Delhi', 'Chennai']\n"
     ]
    }
   ],
   "source": [
    "# Run A* search with dynamic factors\n",
    "optimal_path = a_star_search_dynamic_visualize(selected_start, selected_goal, nodes, edges, transfers, selected_time_window, dynamic_factors)\n",
    "\n",
    "print(\"Optimal Path with Dynamic Factors:\", optimal_path)"
   ]
  }
 ],
 "metadata": {
  "kernelspec": {
   "display_name": "Python 3",
   "language": "python",
   "name": "python3"
  },
  "language_info": {
   "codemirror_mode": {
    "name": "ipython",
    "version": 3
   },
   "file_extension": ".py",
   "mimetype": "text/x-python",
   "name": "python",
   "nbconvert_exporter": "python",
   "pygments_lexer": "ipython3",
   "version": "3.11.0"
  }
 },
 "nbformat": 4,
 "nbformat_minor": 2
}
